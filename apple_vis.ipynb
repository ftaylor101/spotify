{
 "cells": [
  {
   "cell_type": "code",
   "execution_count": 1,
   "metadata": {},
   "outputs": [],
   "source": [
    "import pandas as pd\n",
    "import requests\n",
    "import json\n",
    "from os import environ"
   ]
  },
  {
   "cell_type": "markdown",
   "metadata": {},
   "source": [
    "### Last FM functions"
   ]
  },
  {
   "cell_type": "code",
   "execution_count": 2,
   "metadata": {},
   "outputs": [],
   "source": [
    "API_KEY = environ[\"LAST_FM_API_KEY\"]"
   ]
  },
  {
   "cell_type": "code",
   "execution_count": 3,
   "metadata": {},
   "outputs": [],
   "source": [
    "def get_album(artist: str, song: str) -> str:\n",
    "    headers = {\n",
    "        'user-agent': \"MyOwnPlaylistRecommender\"\n",
    "    }\n",
    "\n",
    "    payload = {\n",
    "        'api_key': API_KEY,\n",
    "        'method': 'track.getInfo',\n",
    "        'format': 'json',\n",
    "        'artist': artist,\n",
    "        'track': song\n",
    "    }\n",
    "\n",
    "    r = requests.get('https://ws.audioscrobbler.com/2.0/', headers=headers, params=payload)\n",
    "    r.status_code\n",
    "    try:\n",
    "        album_name = r.json()['track']['album']['title']\n",
    "    except (KeyError, json.JSONDecodeError):\n",
    "        album_name = \"No album information\"\n",
    "    return album_name"
   ]
  },
  {
   "cell_type": "code",
   "execution_count": 4,
   "metadata": {},
   "outputs": [],
   "source": [
    "def get_album_info(artist: str, album: str) -> dict:\n",
    "    headers = {\n",
    "        'user-agent': \"MyOwnPlaylistRecommender\"\n",
    "    }\n",
    "\n",
    "    payload = {\n",
    "        'api_key': API_KEY,\n",
    "        'method': 'album.getinfo',\n",
    "        'format': 'json',\n",
    "        'artist': artist,\n",
    "        'album': album\n",
    "    }\n",
    "\n",
    "    r = requests.get('https://ws.audioscrobbler.com/2.0/', headers=headers, params=payload)\n",
    "    try:\n",
    "        album_details = r.json()  #['track']['album']['title']\n",
    "    except KeyError:\n",
    "        album_details = None\n",
    "    return album_details"
   ]
  },
  {
   "cell_type": "code",
   "execution_count": 5,
   "metadata": {},
   "outputs": [],
   "source": [
    "def get_artist_info(artist: str) -> dict:\n",
    "    headers = {\n",
    "        'user-agent': \"MyOwnPlaylistRecommender\"\n",
    "    }\n",
    "\n",
    "    payload = {\n",
    "        'api_key': API_KEY,\n",
    "        'method': 'artist.gettopalbums',\n",
    "        'format': 'json',\n",
    "        'artist': artist\n",
    "    }\n",
    "\n",
    "    r = requests.get('https://ws.audioscrobbler.com/2.0/', headers=headers, params=payload)\n",
    "    try:\n",
    "        artist_details = r.json()  #['track']['album']['title']\n",
    "    except KeyError:\n",
    "        artist_details = None\n",
    "    return artist_details"
   ]
  },
  {
   "cell_type": "markdown",
   "metadata": {},
   "source": [
    "### What to do\n",
    "* Clean the Play Activity.csv\n",
    "* Load in Apple Music Library Tracks.json\n",
    "* Merge on song and album names"
   ]
  },
  {
   "cell_type": "markdown",
   "metadata": {},
   "source": [
    "### Load Play Activity.csv"
   ]
  },
  {
   "cell_type": "code",
   "execution_count": 6,
   "metadata": {},
   "outputs": [],
   "source": [
    "df = pd.read_csv(\"./data/apple/Apple Music Play Activity.csv\", low_memory=False, encoding='utf-8')"
   ]
  },
  {
   "cell_type": "markdown",
   "metadata": {},
   "source": [
    "#### Clean the data"
   ]
  },
  {
   "cell_type": "code",
   "execution_count": 7,
   "metadata": {},
   "outputs": [],
   "source": [
    "df.dropna(subset=['Album Name'], inplace=True)\n",
    "df.dropna(subset=['Song Name'], inplace=True)\n",
    "df = df[df['Media Type'] != 'VIDEO']\n",
    "df = df[df['Play Duration Milliseconds'] >= 0]\n",
    "df = df[df['Event Type'] != 'LYRIC_DISPLAY']\n",
    "df.replace({\"Event Start Timestamp\": \"\"}, pd.NA, inplace=True)\n",
    "df.dropna(subset=[\"Event Start Timestamp\"], inplace=True)"
   ]
  },
  {
   "cell_type": "code",
   "execution_count": 8,
   "metadata": {},
   "outputs": [
    {
     "data": {
      "text/html": [
       "<div>\n",
       "<style scoped>\n",
       "    .dataframe tbody tr th:only-of-type {\n",
       "        vertical-align: middle;\n",
       "    }\n",
       "\n",
       "    .dataframe tbody tr th {\n",
       "        vertical-align: top;\n",
       "    }\n",
       "\n",
       "    .dataframe thead th {\n",
       "        text-align: right;\n",
       "    }\n",
       "</style>\n",
       "<table border=\"1\" class=\"dataframe\">\n",
       "  <thead>\n",
       "    <tr style=\"text-align: right;\">\n",
       "      <th></th>\n",
       "      <th>Apple ID Number</th>\n",
       "      <th>Bundle Version</th>\n",
       "      <th>Camera Option</th>\n",
       "      <th>Carrier Name</th>\n",
       "      <th>Container Artist Name</th>\n",
       "      <th>Container iTunes Playlist ID</th>\n",
       "      <th>Container Personalized ID</th>\n",
       "      <th>Container Season ID</th>\n",
       "      <th>Contingency</th>\n",
       "      <th>Display Count</th>\n",
       "      <th>...</th>\n",
       "      <th>Source Radio Name</th>\n",
       "      <th>Start Position In Milliseconds</th>\n",
       "      <th>Subscribed State</th>\n",
       "      <th>Subscription Bundle ID</th>\n",
       "      <th>Subscription Discovery Mode</th>\n",
       "      <th>Subscription Offer ID</th>\n",
       "      <th>Subscription User ID</th>\n",
       "      <th>UTC Offset In Seconds</th>\n",
       "      <th>Vocal Attenuation Duration</th>\n",
       "      <th>Vocal Attenuation Model ID</th>\n",
       "    </tr>\n",
       "  </thead>\n",
       "  <tbody>\n",
       "    <tr>\n",
       "      <th>count</th>\n",
       "      <td>12244.0</td>\n",
       "      <td>9.173000e+03</td>\n",
       "      <td>0.0</td>\n",
       "      <td>0.0</td>\n",
       "      <td>0.0</td>\n",
       "      <td>5.890000e+02</td>\n",
       "      <td>0.0</td>\n",
       "      <td>0.0</td>\n",
       "      <td>0.0</td>\n",
       "      <td>0.0</td>\n",
       "      <td>...</td>\n",
       "      <td>0.0</td>\n",
       "      <td>1.224400e+04</td>\n",
       "      <td>0.0</td>\n",
       "      <td>0.0</td>\n",
       "      <td>0.0</td>\n",
       "      <td>0.0</td>\n",
       "      <td>8.332000e+03</td>\n",
       "      <td>12244.000000</td>\n",
       "      <td>7291.000000</td>\n",
       "      <td>0.0</td>\n",
       "    </tr>\n",
       "    <tr>\n",
       "      <th>mean</th>\n",
       "      <td>277175890.0</td>\n",
       "      <td>3.100000e+00</td>\n",
       "      <td>NaN</td>\n",
       "      <td>NaN</td>\n",
       "      <td>NaN</td>\n",
       "      <td>2.560020e+08</td>\n",
       "      <td>NaN</td>\n",
       "      <td>NaN</td>\n",
       "      <td>NaN</td>\n",
       "      <td>NaN</td>\n",
       "      <td>...</td>\n",
       "      <td>NaN</td>\n",
       "      <td>4.022412e+04</td>\n",
       "      <td>NaN</td>\n",
       "      <td>NaN</td>\n",
       "      <td>NaN</td>\n",
       "      <td>NaN</td>\n",
       "      <td>1.608092e+09</td>\n",
       "      <td>1952.009147</td>\n",
       "      <td>0.867919</td>\n",
       "      <td>NaN</td>\n",
       "    </tr>\n",
       "    <tr>\n",
       "      <th>std</th>\n",
       "      <td>0.0</td>\n",
       "      <td>4.441134e-16</td>\n",
       "      <td>NaN</td>\n",
       "      <td>NaN</td>\n",
       "      <td>NaN</td>\n",
       "      <td>9.302435e+02</td>\n",
       "      <td>NaN</td>\n",
       "      <td>NaN</td>\n",
       "      <td>NaN</td>\n",
       "      <td>NaN</td>\n",
       "      <td>...</td>\n",
       "      <td>NaN</td>\n",
       "      <td>2.017859e+05</td>\n",
       "      <td>NaN</td>\n",
       "      <td>NaN</td>\n",
       "      <td>NaN</td>\n",
       "      <td>NaN</td>\n",
       "      <td>0.000000e+00</td>\n",
       "      <td>1794.233291</td>\n",
       "      <td>74.109336</td>\n",
       "      <td>NaN</td>\n",
       "    </tr>\n",
       "    <tr>\n",
       "      <th>min</th>\n",
       "      <td>277175890.0</td>\n",
       "      <td>3.100000e+00</td>\n",
       "      <td>NaN</td>\n",
       "      <td>NaN</td>\n",
       "      <td>NaN</td>\n",
       "      <td>2.560003e+08</td>\n",
       "      <td>NaN</td>\n",
       "      <td>NaN</td>\n",
       "      <td>NaN</td>\n",
       "      <td>NaN</td>\n",
       "      <td>...</td>\n",
       "      <td>NaN</td>\n",
       "      <td>0.000000e+00</td>\n",
       "      <td>NaN</td>\n",
       "      <td>NaN</td>\n",
       "      <td>NaN</td>\n",
       "      <td>NaN</td>\n",
       "      <td>1.608092e+09</td>\n",
       "      <td>0.000000</td>\n",
       "      <td>0.000000</td>\n",
       "      <td>NaN</td>\n",
       "    </tr>\n",
       "    <tr>\n",
       "      <th>25%</th>\n",
       "      <td>277175890.0</td>\n",
       "      <td>3.100000e+00</td>\n",
       "      <td>NaN</td>\n",
       "      <td>NaN</td>\n",
       "      <td>NaN</td>\n",
       "      <td>2.560010e+08</td>\n",
       "      <td>NaN</td>\n",
       "      <td>NaN</td>\n",
       "      <td>NaN</td>\n",
       "      <td>NaN</td>\n",
       "      <td>...</td>\n",
       "      <td>NaN</td>\n",
       "      <td>0.000000e+00</td>\n",
       "      <td>NaN</td>\n",
       "      <td>NaN</td>\n",
       "      <td>NaN</td>\n",
       "      <td>NaN</td>\n",
       "      <td>1.608092e+09</td>\n",
       "      <td>0.000000</td>\n",
       "      <td>0.000000</td>\n",
       "      <td>NaN</td>\n",
       "    </tr>\n",
       "    <tr>\n",
       "      <th>50%</th>\n",
       "      <td>277175890.0</td>\n",
       "      <td>3.100000e+00</td>\n",
       "      <td>NaN</td>\n",
       "      <td>NaN</td>\n",
       "      <td>NaN</td>\n",
       "      <td>2.560026e+08</td>\n",
       "      <td>NaN</td>\n",
       "      <td>NaN</td>\n",
       "      <td>NaN</td>\n",
       "      <td>NaN</td>\n",
       "      <td>...</td>\n",
       "      <td>NaN</td>\n",
       "      <td>0.000000e+00</td>\n",
       "      <td>NaN</td>\n",
       "      <td>NaN</td>\n",
       "      <td>NaN</td>\n",
       "      <td>NaN</td>\n",
       "      <td>1.608092e+09</td>\n",
       "      <td>3600.000000</td>\n",
       "      <td>0.000000</td>\n",
       "      <td>NaN</td>\n",
       "    </tr>\n",
       "    <tr>\n",
       "      <th>75%</th>\n",
       "      <td>277175890.0</td>\n",
       "      <td>3.100000e+00</td>\n",
       "      <td>NaN</td>\n",
       "      <td>NaN</td>\n",
       "      <td>NaN</td>\n",
       "      <td>2.560028e+08</td>\n",
       "      <td>NaN</td>\n",
       "      <td>NaN</td>\n",
       "      <td>NaN</td>\n",
       "      <td>NaN</td>\n",
       "      <td>...</td>\n",
       "      <td>NaN</td>\n",
       "      <td>0.000000e+00</td>\n",
       "      <td>NaN</td>\n",
       "      <td>NaN</td>\n",
       "      <td>NaN</td>\n",
       "      <td>NaN</td>\n",
       "      <td>1.608092e+09</td>\n",
       "      <td>3600.000000</td>\n",
       "      <td>0.000000</td>\n",
       "      <td>NaN</td>\n",
       "    </tr>\n",
       "    <tr>\n",
       "      <th>max</th>\n",
       "      <td>277175890.0</td>\n",
       "      <td>3.100000e+00</td>\n",
       "      <td>NaN</td>\n",
       "      <td>NaN</td>\n",
       "      <td>NaN</td>\n",
       "      <td>2.560033e+08</td>\n",
       "      <td>NaN</td>\n",
       "      <td>NaN</td>\n",
       "      <td>NaN</td>\n",
       "      <td>NaN</td>\n",
       "      <td>...</td>\n",
       "      <td>NaN</td>\n",
       "      <td>3.820895e+06</td>\n",
       "      <td>NaN</td>\n",
       "      <td>NaN</td>\n",
       "      <td>NaN</td>\n",
       "      <td>NaN</td>\n",
       "      <td>1.608092e+09</td>\n",
       "      <td>7200.000000</td>\n",
       "      <td>6328.000000</td>\n",
       "      <td>NaN</td>\n",
       "    </tr>\n",
       "  </tbody>\n",
       "</table>\n",
       "<p>8 rows × 50 columns</p>\n",
       "</div>"
      ],
      "text/plain": [
       "       Apple ID Number  Bundle Version  Camera Option  Carrier Name  \\\n",
       "count          12244.0    9.173000e+03            0.0           0.0   \n",
       "mean       277175890.0    3.100000e+00            NaN           NaN   \n",
       "std                0.0    4.441134e-16            NaN           NaN   \n",
       "min        277175890.0    3.100000e+00            NaN           NaN   \n",
       "25%        277175890.0    3.100000e+00            NaN           NaN   \n",
       "50%        277175890.0    3.100000e+00            NaN           NaN   \n",
       "75%        277175890.0    3.100000e+00            NaN           NaN   \n",
       "max        277175890.0    3.100000e+00            NaN           NaN   \n",
       "\n",
       "       Container Artist Name  Container iTunes Playlist ID  \\\n",
       "count                    0.0                  5.890000e+02   \n",
       "mean                     NaN                  2.560020e+08   \n",
       "std                      NaN                  9.302435e+02   \n",
       "min                      NaN                  2.560003e+08   \n",
       "25%                      NaN                  2.560010e+08   \n",
       "50%                      NaN                  2.560026e+08   \n",
       "75%                      NaN                  2.560028e+08   \n",
       "max                      NaN                  2.560033e+08   \n",
       "\n",
       "       Container Personalized ID  Container Season ID  Contingency  \\\n",
       "count                        0.0                  0.0          0.0   \n",
       "mean                         NaN                  NaN          NaN   \n",
       "std                          NaN                  NaN          NaN   \n",
       "min                          NaN                  NaN          NaN   \n",
       "25%                          NaN                  NaN          NaN   \n",
       "50%                          NaN                  NaN          NaN   \n",
       "75%                          NaN                  NaN          NaN   \n",
       "max                          NaN                  NaN          NaN   \n",
       "\n",
       "       Display Count  ...  Source Radio Name  Start Position In Milliseconds  \\\n",
       "count            0.0  ...                0.0                    1.224400e+04   \n",
       "mean             NaN  ...                NaN                    4.022412e+04   \n",
       "std              NaN  ...                NaN                    2.017859e+05   \n",
       "min              NaN  ...                NaN                    0.000000e+00   \n",
       "25%              NaN  ...                NaN                    0.000000e+00   \n",
       "50%              NaN  ...                NaN                    0.000000e+00   \n",
       "75%              NaN  ...                NaN                    0.000000e+00   \n",
       "max              NaN  ...                NaN                    3.820895e+06   \n",
       "\n",
       "       Subscribed State  Subscription Bundle ID  Subscription Discovery Mode  \\\n",
       "count               0.0                     0.0                          0.0   \n",
       "mean                NaN                     NaN                          NaN   \n",
       "std                 NaN                     NaN                          NaN   \n",
       "min                 NaN                     NaN                          NaN   \n",
       "25%                 NaN                     NaN                          NaN   \n",
       "50%                 NaN                     NaN                          NaN   \n",
       "75%                 NaN                     NaN                          NaN   \n",
       "max                 NaN                     NaN                          NaN   \n",
       "\n",
       "       Subscription Offer ID  Subscription User ID  UTC Offset In Seconds  \\\n",
       "count                    0.0          8.332000e+03           12244.000000   \n",
       "mean                     NaN          1.608092e+09            1952.009147   \n",
       "std                      NaN          0.000000e+00            1794.233291   \n",
       "min                      NaN          1.608092e+09               0.000000   \n",
       "25%                      NaN          1.608092e+09               0.000000   \n",
       "50%                      NaN          1.608092e+09            3600.000000   \n",
       "75%                      NaN          1.608092e+09            3600.000000   \n",
       "max                      NaN          1.608092e+09            7200.000000   \n",
       "\n",
       "       Vocal Attenuation Duration  Vocal Attenuation Model ID  \n",
       "count                 7291.000000                         0.0  \n",
       "mean                     0.867919                         NaN  \n",
       "std                     74.109336                         NaN  \n",
       "min                      0.000000                         NaN  \n",
       "25%                      0.000000                         NaN  \n",
       "50%                      0.000000                         NaN  \n",
       "75%                      0.000000                         NaN  \n",
       "max                   6328.000000                         NaN  \n",
       "\n",
       "[8 rows x 50 columns]"
      ]
     },
     "execution_count": 8,
     "metadata": {},
     "output_type": "execute_result"
    }
   ],
   "source": [
    "df.describe()"
   ]
  },
  {
   "cell_type": "markdown",
   "metadata": {},
   "source": [
    "#### Get Album - Song unique dataframe"
   ]
  },
  {
   "cell_type": "code",
   "execution_count": 9,
   "metadata": {},
   "outputs": [],
   "source": [
    "tmp_album_song_df = df[[\"Album Name\", \"Song Name\"]]"
   ]
  },
  {
   "cell_type": "code",
   "execution_count": 10,
   "metadata": {},
   "outputs": [],
   "source": [
    "album_song_df = tmp_album_song_df.drop_duplicates()"
   ]
  },
  {
   "cell_type": "code",
   "execution_count": 11,
   "metadata": {},
   "outputs": [
    {
     "data": {
      "text/html": [
       "<div>\n",
       "<style scoped>\n",
       "    .dataframe tbody tr th:only-of-type {\n",
       "        vertical-align: middle;\n",
       "    }\n",
       "\n",
       "    .dataframe tbody tr th {\n",
       "        vertical-align: top;\n",
       "    }\n",
       "\n",
       "    .dataframe thead th {\n",
       "        text-align: right;\n",
       "    }\n",
       "</style>\n",
       "<table border=\"1\" class=\"dataframe\">\n",
       "  <thead>\n",
       "    <tr style=\"text-align: right;\">\n",
       "      <th></th>\n",
       "      <th>Album Name</th>\n",
       "      <th>Song Name</th>\n",
       "    </tr>\n",
       "  </thead>\n",
       "  <tbody>\n",
       "    <tr>\n",
       "      <th>0</th>\n",
       "      <td>Are a Drag</td>\n",
       "      <td>Science Fiction Double Feature</td>\n",
       "    </tr>\n",
       "    <tr>\n",
       "      <th>1</th>\n",
       "      <td>Escape (2022 Remaster)</td>\n",
       "      <td>Don't Stop Believin'  (2022 Remaster)</td>\n",
       "    </tr>\n",
       "    <tr>\n",
       "      <th>2</th>\n",
       "      <td>Straight Ahead</td>\n",
       "      <td>Watch Me as I Fall</td>\n",
       "    </tr>\n",
       "    <tr>\n",
       "      <th>4</th>\n",
       "      <td>Acoustic, Vol. 2</td>\n",
       "      <td>Know It All</td>\n",
       "    </tr>\n",
       "    <tr>\n",
       "      <th>5</th>\n",
       "      <td>Acoustic, Vol. 2</td>\n",
       "      <td>Alison's Disease</td>\n",
       "    </tr>\n",
       "    <tr>\n",
       "      <th>...</th>\n",
       "      <td>...</td>\n",
       "      <td>...</td>\n",
       "    </tr>\n",
       "    <tr>\n",
       "      <th>21383</th>\n",
       "      <td>Pump up the Valuum</td>\n",
       "      <td>Theme from a Nofx Album</td>\n",
       "    </tr>\n",
       "    <tr>\n",
       "      <th>21398</th>\n",
       "      <td>Schubert: Piano Trios</td>\n",
       "      <td>Sonatensatz in B-Flat Major, D. 28</td>\n",
       "    </tr>\n",
       "    <tr>\n",
       "      <th>21405</th>\n",
       "      <td>One Thing At A Time</td>\n",
       "      <td>Cowgirls (feat. ERNEST)</td>\n",
       "    </tr>\n",
       "    <tr>\n",
       "      <th>21412</th>\n",
       "      <td>Ella &amp; Duke At the Cote d'Azur</td>\n",
       "      <td>Just Squeeze Me (But Don't Tease Me)</td>\n",
       "    </tr>\n",
       "    <tr>\n",
       "      <th>21429</th>\n",
       "      <td>Mario</td>\n",
       "      <td>Put Me On</td>\n",
       "    </tr>\n",
       "  </tbody>\n",
       "</table>\n",
       "<p>5491 rows × 2 columns</p>\n",
       "</div>"
      ],
      "text/plain": [
       "                           Album Name                              Song Name\n",
       "0                          Are a Drag         Science Fiction Double Feature\n",
       "1              Escape (2022 Remaster)  Don't Stop Believin'  (2022 Remaster)\n",
       "2                      Straight Ahead                     Watch Me as I Fall\n",
       "4                    Acoustic, Vol. 2                            Know It All\n",
       "5                    Acoustic, Vol. 2                       Alison's Disease\n",
       "...                               ...                                    ...\n",
       "21383              Pump up the Valuum                Theme from a Nofx Album\n",
       "21398           Schubert: Piano Trios     Sonatensatz in B-Flat Major, D. 28\n",
       "21405             One Thing At A Time                Cowgirls (feat. ERNEST)\n",
       "21412  Ella & Duke At the Cote d'Azur   Just Squeeze Me (But Don't Tease Me)\n",
       "21429                           Mario                              Put Me On\n",
       "\n",
       "[5491 rows x 2 columns]"
      ]
     },
     "execution_count": 11,
     "metadata": {},
     "output_type": "execute_result"
    }
   ],
   "source": [
    "album_song_df"
   ]
  },
  {
   "cell_type": "code",
   "execution_count": 12,
   "metadata": {},
   "outputs": [
    {
     "data": {
      "text/html": [
       "<div>\n",
       "<style scoped>\n",
       "    .dataframe tbody tr th:only-of-type {\n",
       "        vertical-align: middle;\n",
       "    }\n",
       "\n",
       "    .dataframe tbody tr th {\n",
       "        vertical-align: top;\n",
       "    }\n",
       "\n",
       "    .dataframe thead th {\n",
       "        text-align: right;\n",
       "    }\n",
       "</style>\n",
       "<table border=\"1\" class=\"dataframe\">\n",
       "  <thead>\n",
       "    <tr style=\"text-align: right;\">\n",
       "      <th></th>\n",
       "      <th>Album Name</th>\n",
       "      <th>Song Name</th>\n",
       "    </tr>\n",
       "  </thead>\n",
       "  <tbody>\n",
       "    <tr>\n",
       "      <th>count</th>\n",
       "      <td>5491</td>\n",
       "      <td>5491</td>\n",
       "    </tr>\n",
       "    <tr>\n",
       "      <th>unique</th>\n",
       "      <td>2868</td>\n",
       "      <td>5076</td>\n",
       "    </tr>\n",
       "    <tr>\n",
       "      <th>top</th>\n",
       "      <td>Mozart: Don Giovanni, K. 527</td>\n",
       "      <td>Last Christmas</td>\n",
       "    </tr>\n",
       "    <tr>\n",
       "      <th>freq</th>\n",
       "      <td>57</td>\n",
       "      <td>5</td>\n",
       "    </tr>\n",
       "  </tbody>\n",
       "</table>\n",
       "</div>"
      ],
      "text/plain": [
       "                          Album Name       Song Name\n",
       "count                           5491            5491\n",
       "unique                          2868            5076\n",
       "top     Mozart: Don Giovanni, K. 527  Last Christmas\n",
       "freq                              57               5"
      ]
     },
     "execution_count": 12,
     "metadata": {},
     "output_type": "execute_result"
    }
   ],
   "source": [
    "album_song_df.describe()"
   ]
  },
  {
   "cell_type": "markdown",
   "metadata": {},
   "source": [
    "### Load Apple Music Library Tracks.json"
   ]
  },
  {
   "cell_type": "code",
   "execution_count": 13,
   "metadata": {},
   "outputs": [],
   "source": [
    "library_tracks = pd.read_json('./data/apple/Apple Music Library Tracks.json', encoding='utf-8')"
   ]
  },
  {
   "cell_type": "code",
   "execution_count": 14,
   "metadata": {},
   "outputs": [],
   "source": [
    "library_tracks['Artist'] = library_tracks['Artist'].str.lower()"
   ]
  },
  {
   "cell_type": "code",
   "execution_count": 15,
   "metadata": {},
   "outputs": [],
   "source": [
    "# get the genre of each artist\n",
    "artist_groups = library_tracks.groupby('Artist')"
   ]
  },
  {
   "cell_type": "code",
   "execution_count": 16,
   "metadata": {},
   "outputs": [
    {
     "data": {
      "text/plain": [
       "['Pop', 'Country', \"'10s Pop\"]"
      ]
     },
     "execution_count": 16,
     "metadata": {},
     "output_type": "execute_result"
    }
   ],
   "source": [
    "list(artist_groups.get_group(\"Taylor Swift\".lower())[\"Genre\"].unique())  # raises a KeyError"
   ]
  },
  {
   "cell_type": "code",
   "execution_count": 17,
   "metadata": {},
   "outputs": [],
   "source": [
    "def get_genre(artist: str) -> list:\n",
    "    try:\n",
    "        genres = list(artist_groups.get_group(artist.lower())[\"Genre\"].unique())\n",
    "    except (AttributeError, KeyError):\n",
    "        genres = [None]\n",
    "    return genres"
   ]
  },
  {
   "cell_type": "markdown",
   "metadata": {},
   "source": [
    "#### Get Artist - Album - Song unique dataframe"
   ]
  },
  {
   "cell_type": "code",
   "execution_count": 18,
   "metadata": {},
   "outputs": [],
   "source": [
    "tmp_artist_album_song_df = library_tracks[[\"Artist\", \"Album\", \"Title\"]]"
   ]
  },
  {
   "cell_type": "code",
   "execution_count": 19,
   "metadata": {},
   "outputs": [],
   "source": [
    "artist_album_song_df = tmp_artist_album_song_df.drop_duplicates()"
   ]
  },
  {
   "cell_type": "code",
   "execution_count": 20,
   "metadata": {},
   "outputs": [
    {
     "data": {
      "text/html": [
       "<div>\n",
       "<style scoped>\n",
       "    .dataframe tbody tr th:only-of-type {\n",
       "        vertical-align: middle;\n",
       "    }\n",
       "\n",
       "    .dataframe tbody tr th {\n",
       "        vertical-align: top;\n",
       "    }\n",
       "\n",
       "    .dataframe thead th {\n",
       "        text-align: right;\n",
       "    }\n",
       "</style>\n",
       "<table border=\"1\" class=\"dataframe\">\n",
       "  <thead>\n",
       "    <tr style=\"text-align: right;\">\n",
       "      <th></th>\n",
       "      <th>Artist</th>\n",
       "      <th>Album</th>\n",
       "      <th>Title</th>\n",
       "    </tr>\n",
       "  </thead>\n",
       "  <tbody>\n",
       "    <tr>\n",
       "      <th>count</th>\n",
       "      <td>7988</td>\n",
       "      <td>7821</td>\n",
       "      <td>8022</td>\n",
       "    </tr>\n",
       "    <tr>\n",
       "      <th>unique</th>\n",
       "      <td>1453</td>\n",
       "      <td>976</td>\n",
       "      <td>7525</td>\n",
       "    </tr>\n",
       "    <tr>\n",
       "      <th>top</th>\n",
       "      <td>bbc radio 1</td>\n",
       "      <td>&lt;Unknown&gt;</td>\n",
       "      <td>Intro</td>\n",
       "    </tr>\n",
       "    <tr>\n",
       "      <th>freq</th>\n",
       "      <td>411</td>\n",
       "      <td>267</td>\n",
       "      <td>18</td>\n",
       "    </tr>\n",
       "  </tbody>\n",
       "</table>\n",
       "</div>"
      ],
      "text/plain": [
       "             Artist      Album  Title\n",
       "count          7988       7821   8022\n",
       "unique         1453        976   7525\n",
       "top     bbc radio 1  <Unknown>  Intro\n",
       "freq            411        267     18"
      ]
     },
     "execution_count": 20,
     "metadata": {},
     "output_type": "execute_result"
    }
   ],
   "source": [
    "artist_album_song_df.describe()"
   ]
  },
  {
   "cell_type": "code",
   "execution_count": 21,
   "metadata": {},
   "outputs": [
    {
     "name": "stderr",
     "output_type": "stream",
     "text": [
      "C:\\Users\\ftayl\\AppData\\Local\\Temp\\ipykernel_22068\\3495314286.py:1: SettingWithCopyWarning: \n",
      "A value is trying to be set on a copy of a slice from a DataFrame\n",
      "\n",
      "See the caveats in the documentation: https://pandas.pydata.org/pandas-docs/stable/user_guide/indexing.html#returning-a-view-versus-a-copy\n",
      "  artist_album_song_df.dropna(subset=['Artist'], inplace=True)\n"
     ]
    }
   ],
   "source": [
    "artist_album_song_df.dropna(subset=['Artist'], inplace=True)"
   ]
  },
  {
   "cell_type": "code",
   "execution_count": 22,
   "metadata": {},
   "outputs": [
    {
     "data": {
      "text/html": [
       "<div>\n",
       "<style scoped>\n",
       "    .dataframe tbody tr th:only-of-type {\n",
       "        vertical-align: middle;\n",
       "    }\n",
       "\n",
       "    .dataframe tbody tr th {\n",
       "        vertical-align: top;\n",
       "    }\n",
       "\n",
       "    .dataframe thead th {\n",
       "        text-align: right;\n",
       "    }\n",
       "</style>\n",
       "<table border=\"1\" class=\"dataframe\">\n",
       "  <thead>\n",
       "    <tr style=\"text-align: right;\">\n",
       "      <th></th>\n",
       "      <th>Artist</th>\n",
       "      <th>Album</th>\n",
       "      <th>Title</th>\n",
       "    </tr>\n",
       "  </thead>\n",
       "  <tbody>\n",
       "    <tr>\n",
       "      <th>count</th>\n",
       "      <td>7988</td>\n",
       "      <td>7820</td>\n",
       "      <td>7988</td>\n",
       "    </tr>\n",
       "    <tr>\n",
       "      <th>unique</th>\n",
       "      <td>1453</td>\n",
       "      <td>976</td>\n",
       "      <td>7492</td>\n",
       "    </tr>\n",
       "    <tr>\n",
       "      <th>top</th>\n",
       "      <td>bbc radio 1</td>\n",
       "      <td>&lt;Unknown&gt;</td>\n",
       "      <td>Intro</td>\n",
       "    </tr>\n",
       "    <tr>\n",
       "      <th>freq</th>\n",
       "      <td>411</td>\n",
       "      <td>267</td>\n",
       "      <td>18</td>\n",
       "    </tr>\n",
       "  </tbody>\n",
       "</table>\n",
       "</div>"
      ],
      "text/plain": [
       "             Artist      Album  Title\n",
       "count          7988       7820   7988\n",
       "unique         1453        976   7492\n",
       "top     bbc radio 1  <Unknown>  Intro\n",
       "freq            411        267     18"
      ]
     },
     "execution_count": 22,
     "metadata": {},
     "output_type": "execute_result"
    }
   ],
   "source": [
    "artist_album_song_df.describe()"
   ]
  },
  {
   "cell_type": "code",
   "execution_count": 23,
   "metadata": {},
   "outputs": [],
   "source": [
    "nan_rows_df = artist_album_song_df[artist_album_song_df.isna().any(axis=1)]"
   ]
  },
  {
   "cell_type": "code",
   "execution_count": 24,
   "metadata": {},
   "outputs": [
    {
     "data": {
      "text/html": [
       "<div>\n",
       "<style scoped>\n",
       "    .dataframe tbody tr th:only-of-type {\n",
       "        vertical-align: middle;\n",
       "    }\n",
       "\n",
       "    .dataframe tbody tr th {\n",
       "        vertical-align: top;\n",
       "    }\n",
       "\n",
       "    .dataframe thead th {\n",
       "        text-align: right;\n",
       "    }\n",
       "</style>\n",
       "<table border=\"1\" class=\"dataframe\">\n",
       "  <thead>\n",
       "    <tr style=\"text-align: right;\">\n",
       "      <th></th>\n",
       "      <th>Artist</th>\n",
       "      <th>Album</th>\n",
       "      <th>Title</th>\n",
       "    </tr>\n",
       "  </thead>\n",
       "  <tbody>\n",
       "    <tr>\n",
       "      <th>203</th>\n",
       "      <td>mc hammer</td>\n",
       "      <td>NaN</td>\n",
       "      <td>Adams Family</td>\n",
       "    </tr>\n",
       "    <tr>\n",
       "      <th>221</th>\n",
       "      <td>aphex twin</td>\n",
       "      <td>NaN</td>\n",
       "      <td>Ageispolis</td>\n",
       "    </tr>\n",
       "    <tr>\n",
       "      <th>223</th>\n",
       "      <td>uniting nations ft laura more</td>\n",
       "      <td>NaN</td>\n",
       "      <td>Ai No Corrida</td>\n",
       "    </tr>\n",
       "    <tr>\n",
       "      <th>239</th>\n",
       "      <td>aphex twin</td>\n",
       "      <td>NaN</td>\n",
       "      <td>Alberto Balsalm</td>\n",
       "    </tr>\n",
       "    <tr>\n",
       "      <th>288</th>\n",
       "      <td>the mighty mighty bosstones</td>\n",
       "      <td>NaN</td>\n",
       "      <td>All Things Considered</td>\n",
       "    </tr>\n",
       "    <tr>\n",
       "      <th>...</th>\n",
       "      <td>...</td>\n",
       "      <td>...</td>\n",
       "      <td>...</td>\n",
       "    </tr>\n",
       "    <tr>\n",
       "      <th>7608</th>\n",
       "      <td>nelly</td>\n",
       "      <td>NaN</td>\n",
       "      <td>12 Tho Dem Wrappas</td>\n",
       "    </tr>\n",
       "    <tr>\n",
       "      <th>7635</th>\n",
       "      <td>nelly/st. lunatics</td>\n",
       "      <td>NaN</td>\n",
       "      <td>13 Wrap Sumden</td>\n",
       "    </tr>\n",
       "    <tr>\n",
       "      <th>7640</th>\n",
       "      <td>ali/nelly/murphy lee</td>\n",
       "      <td>NaN</td>\n",
       "      <td>14 Batter Up</td>\n",
       "    </tr>\n",
       "    <tr>\n",
       "      <th>7671</th>\n",
       "      <td>nelly/the teamsters</td>\n",
       "      <td>NaN</td>\n",
       "      <td>15 Never Let 'Em C U Sweat</td>\n",
       "    </tr>\n",
       "    <tr>\n",
       "      <th>7684</th>\n",
       "      <td>nelly</td>\n",
       "      <td>NaN</td>\n",
       "      <td>16 Luven Me</td>\n",
       "    </tr>\n",
       "  </tbody>\n",
       "</table>\n",
       "<p>168 rows × 3 columns</p>\n",
       "</div>"
      ],
      "text/plain": [
       "                             Artist Album                       Title\n",
       "203                       mc hammer   NaN                Adams Family\n",
       "221                      aphex twin   NaN                  Ageispolis\n",
       "223   uniting nations ft laura more   NaN               Ai No Corrida\n",
       "239                      aphex twin   NaN             Alberto Balsalm\n",
       "288     the mighty mighty bosstones   NaN       All Things Considered\n",
       "...                             ...   ...                         ...\n",
       "7608                          nelly   NaN          12 Tho Dem Wrappas\n",
       "7635             nelly/st. lunatics   NaN              13 Wrap Sumden\n",
       "7640           ali/nelly/murphy lee   NaN                14 Batter Up\n",
       "7671            nelly/the teamsters   NaN  15 Never Let 'Em C U Sweat\n",
       "7684                          nelly   NaN                 16 Luven Me\n",
       "\n",
       "[168 rows x 3 columns]"
      ]
     },
     "execution_count": 24,
     "metadata": {},
     "output_type": "execute_result"
    }
   ],
   "source": [
    "nan_rows_df"
   ]
  },
  {
   "cell_type": "code",
   "execution_count": 25,
   "metadata": {},
   "outputs": [
    {
     "data": {
      "text/plain": [
       "Artist      0\n",
       "Album     168\n",
       "Title       0\n",
       "dtype: int64"
      ]
     },
     "execution_count": 25,
     "metadata": {},
     "output_type": "execute_result"
    }
   ],
   "source": [
    "nan_rows_df.isna().sum()"
   ]
  },
  {
   "cell_type": "code",
   "execution_count": 26,
   "metadata": {},
   "outputs": [
    {
     "name": "stderr",
     "output_type": "stream",
     "text": [
      "C:\\Users\\ftayl\\AppData\\Local\\Temp\\ipykernel_22068\\2433210347.py:1: SettingWithCopyWarning: \n",
      "A value is trying to be set on a copy of a slice from a DataFrame.\n",
      "Try using .loc[row_indexer,col_indexer] = value instead\n",
      "\n",
      "See the caveats in the documentation: https://pandas.pydata.org/pandas-docs/stable/user_guide/indexing.html#returning-a-view-versus-a-copy\n",
      "  nan_rows_df['Album'] = nan_rows_df.apply(\n"
     ]
    }
   ],
   "source": [
    "nan_rows_df['Album'] = nan_rows_df.apply(\n",
    "    lambda x: get_album(x['Artist'], x['Title']) if pd.isna(x[\"Album\"]) else x[\"Album\"], \n",
    "    axis=1\n",
    ")"
   ]
  },
  {
   "cell_type": "code",
   "execution_count": 27,
   "metadata": {},
   "outputs": [
    {
     "data": {
      "text/html": [
       "<div>\n",
       "<style scoped>\n",
       "    .dataframe tbody tr th:only-of-type {\n",
       "        vertical-align: middle;\n",
       "    }\n",
       "\n",
       "    .dataframe tbody tr th {\n",
       "        vertical-align: top;\n",
       "    }\n",
       "\n",
       "    .dataframe thead th {\n",
       "        text-align: right;\n",
       "    }\n",
       "</style>\n",
       "<table border=\"1\" class=\"dataframe\">\n",
       "  <thead>\n",
       "    <tr style=\"text-align: right;\">\n",
       "      <th></th>\n",
       "      <th>Artist</th>\n",
       "      <th>Album</th>\n",
       "      <th>Title</th>\n",
       "    </tr>\n",
       "  </thead>\n",
       "  <tbody>\n",
       "    <tr>\n",
       "      <th>count</th>\n",
       "      <td>168</td>\n",
       "      <td>168</td>\n",
       "      <td>168</td>\n",
       "    </tr>\n",
       "    <tr>\n",
       "      <th>unique</th>\n",
       "      <td>67</td>\n",
       "      <td>62</td>\n",
       "      <td>168</td>\n",
       "    </tr>\n",
       "    <tr>\n",
       "      <th>top</th>\n",
       "      <td>the mighty mighty bosstones</td>\n",
       "      <td>No album information</td>\n",
       "      <td>Adams Family</td>\n",
       "    </tr>\n",
       "    <tr>\n",
       "      <th>freq</th>\n",
       "      <td>53</td>\n",
       "      <td>58</td>\n",
       "      <td>1</td>\n",
       "    </tr>\n",
       "  </tbody>\n",
       "</table>\n",
       "</div>"
      ],
      "text/plain": [
       "                             Artist                 Album         Title\n",
       "count                           168                   168           168\n",
       "unique                           67                    62           168\n",
       "top     the mighty mighty bosstones  No album information  Adams Family\n",
       "freq                             53                    58             1"
      ]
     },
     "execution_count": 27,
     "metadata": {},
     "output_type": "execute_result"
    }
   ],
   "source": [
    "nan_rows_df.describe()"
   ]
  },
  {
   "cell_type": "code",
   "execution_count": 28,
   "metadata": {},
   "outputs": [],
   "source": [
    "artist_album_song_df = pd.concat([artist_album_song_df, nan_rows_df], ignore_index=True)"
   ]
  },
  {
   "cell_type": "code",
   "execution_count": 29,
   "metadata": {},
   "outputs": [
    {
     "data": {
      "text/html": [
       "<div>\n",
       "<style scoped>\n",
       "    .dataframe tbody tr th:only-of-type {\n",
       "        vertical-align: middle;\n",
       "    }\n",
       "\n",
       "    .dataframe tbody tr th {\n",
       "        vertical-align: top;\n",
       "    }\n",
       "\n",
       "    .dataframe thead th {\n",
       "        text-align: right;\n",
       "    }\n",
       "</style>\n",
       "<table border=\"1\" class=\"dataframe\">\n",
       "  <thead>\n",
       "    <tr style=\"text-align: right;\">\n",
       "      <th></th>\n",
       "      <th>Artist</th>\n",
       "      <th>Album</th>\n",
       "      <th>Title</th>\n",
       "    </tr>\n",
       "  </thead>\n",
       "  <tbody>\n",
       "    <tr>\n",
       "      <th>0</th>\n",
       "      <td>shy fx &amp; t-power</td>\n",
       "      <td>Set It Off</td>\n",
       "      <td>Shake Ur Body (feat. Di)</td>\n",
       "    </tr>\n",
       "    <tr>\n",
       "      <th>1</th>\n",
       "      <td>the cranberries</td>\n",
       "      <td>No Need To Argue (Remastered 2020)</td>\n",
       "      <td>Zombie</td>\n",
       "    </tr>\n",
       "    <tr>\n",
       "      <th>2</th>\n",
       "      <td>spooks</td>\n",
       "      <td>S.I.O.S.O.S., Vol. One (Remastered)</td>\n",
       "      <td>Karma Hotel</td>\n",
       "    </tr>\n",
       "    <tr>\n",
       "      <th>3</th>\n",
       "      <td>major lazer</td>\n",
       "      <td>Cold Water (feat. Justin Bieber &amp; MØ) - Single</td>\n",
       "      <td>Cold Water (feat. Justin Bieber &amp; MØ)</td>\n",
       "    </tr>\n",
       "    <tr>\n",
       "      <th>4</th>\n",
       "      <td>taylor swift</td>\n",
       "      <td>reputation</td>\n",
       "      <td>...Ready For It?</td>\n",
       "    </tr>\n",
       "    <tr>\n",
       "      <th>...</th>\n",
       "      <td>...</td>\n",
       "      <td>...</td>\n",
       "      <td>...</td>\n",
       "    </tr>\n",
       "    <tr>\n",
       "      <th>8151</th>\n",
       "      <td>nelly</td>\n",
       "      <td>No album information</td>\n",
       "      <td>12 Tho Dem Wrappas</td>\n",
       "    </tr>\n",
       "    <tr>\n",
       "      <th>8152</th>\n",
       "      <td>nelly/st. lunatics</td>\n",
       "      <td>No album information</td>\n",
       "      <td>13 Wrap Sumden</td>\n",
       "    </tr>\n",
       "    <tr>\n",
       "      <th>8153</th>\n",
       "      <td>ali/nelly/murphy lee</td>\n",
       "      <td>No album information</td>\n",
       "      <td>14 Batter Up</td>\n",
       "    </tr>\n",
       "    <tr>\n",
       "      <th>8154</th>\n",
       "      <td>nelly/the teamsters</td>\n",
       "      <td>No album information</td>\n",
       "      <td>15 Never Let 'Em C U Sweat</td>\n",
       "    </tr>\n",
       "    <tr>\n",
       "      <th>8155</th>\n",
       "      <td>nelly</td>\n",
       "      <td>No album information</td>\n",
       "      <td>16 Luven Me</td>\n",
       "    </tr>\n",
       "  </tbody>\n",
       "</table>\n",
       "<p>8156 rows × 3 columns</p>\n",
       "</div>"
      ],
      "text/plain": [
       "                    Artist                                           Album  \\\n",
       "0         shy fx & t-power                                      Set It Off   \n",
       "1          the cranberries              No Need To Argue (Remastered 2020)   \n",
       "2                   spooks             S.I.O.S.O.S., Vol. One (Remastered)   \n",
       "3              major lazer  Cold Water (feat. Justin Bieber & MØ) - Single   \n",
       "4             taylor swift                                      reputation   \n",
       "...                    ...                                             ...   \n",
       "8151                 nelly                            No album information   \n",
       "8152    nelly/st. lunatics                            No album information   \n",
       "8153  ali/nelly/murphy lee                            No album information   \n",
       "8154   nelly/the teamsters                            No album information   \n",
       "8155                 nelly                            No album information   \n",
       "\n",
       "                                      Title  \n",
       "0                  Shake Ur Body (feat. Di)  \n",
       "1                                    Zombie  \n",
       "2                               Karma Hotel  \n",
       "3     Cold Water (feat. Justin Bieber & MØ)  \n",
       "4                          ...Ready For It?  \n",
       "...                                     ...  \n",
       "8151                     12 Tho Dem Wrappas  \n",
       "8152                         13 Wrap Sumden  \n",
       "8153                           14 Batter Up  \n",
       "8154             15 Never Let 'Em C U Sweat  \n",
       "8155                            16 Luven Me  \n",
       "\n",
       "[8156 rows x 3 columns]"
      ]
     },
     "execution_count": 29,
     "metadata": {},
     "output_type": "execute_result"
    }
   ],
   "source": [
    "artist_album_song_df"
   ]
  },
  {
   "cell_type": "markdown",
   "metadata": {},
   "source": [
    "### Load Apple Music - Play History Daily Tracks.csv"
   ]
  },
  {
   "cell_type": "code",
   "execution_count": 30,
   "metadata": {},
   "outputs": [
    {
     "data": {
      "text/html": [
       "<div>\n",
       "<style scoped>\n",
       "    .dataframe tbody tr th:only-of-type {\n",
       "        vertical-align: middle;\n",
       "    }\n",
       "\n",
       "    .dataframe tbody tr th {\n",
       "        vertical-align: top;\n",
       "    }\n",
       "\n",
       "    .dataframe thead th {\n",
       "        text-align: right;\n",
       "    }\n",
       "</style>\n",
       "<table border=\"1\" class=\"dataframe\">\n",
       "  <thead>\n",
       "    <tr style=\"text-align: right;\">\n",
       "      <th></th>\n",
       "      <th>Country</th>\n",
       "      <th>Track Identifier</th>\n",
       "      <th>Media type</th>\n",
       "      <th>Date Played</th>\n",
       "      <th>Hours</th>\n",
       "      <th>Play Duration Milliseconds</th>\n",
       "      <th>End Reason Type</th>\n",
       "      <th>Source Type</th>\n",
       "      <th>Play Count</th>\n",
       "      <th>Skip Count</th>\n",
       "      <th>Ignore For Recommendations</th>\n",
       "      <th>Track Reference</th>\n",
       "      <th>Track Description</th>\n",
       "    </tr>\n",
       "  </thead>\n",
       "  <tbody>\n",
       "    <tr>\n",
       "      <th>0</th>\n",
       "      <td>United Kingdom</td>\n",
       "      <td>1116868327</td>\n",
       "      <td>AUDIO</td>\n",
       "      <td>20160828</td>\n",
       "      <td>21</td>\n",
       "      <td>231000</td>\n",
       "      <td>NOT_APPLICABLE</td>\n",
       "      <td>IPHONE</td>\n",
       "      <td>1</td>\n",
       "      <td>0</td>\n",
       "      <td>NaN</td>\n",
       "      <td>NaN</td>\n",
       "      <td>Glass Animals - Youth</td>\n",
       "    </tr>\n",
       "    <tr>\n",
       "      <th>1</th>\n",
       "      <td>United Kingdom</td>\n",
       "      <td>1129287609</td>\n",
       "      <td>AUDIO</td>\n",
       "      <td>20160828</td>\n",
       "      <td>21</td>\n",
       "      <td>221000</td>\n",
       "      <td>NOT_APPLICABLE</td>\n",
       "      <td>IPHONE</td>\n",
       "      <td>1</td>\n",
       "      <td>0</td>\n",
       "      <td>NaN</td>\n",
       "      <td>NaN</td>\n",
       "      <td>AlunaGeorge - Mean What I Mean (feat. Leikeli4...</td>\n",
       "    </tr>\n",
       "  </tbody>\n",
       "</table>\n",
       "</div>"
      ],
      "text/plain": [
       "          Country  Track Identifier Media type  Date Played Hours  \\\n",
       "0  United Kingdom        1116868327      AUDIO     20160828    21   \n",
       "1  United Kingdom        1129287609      AUDIO     20160828    21   \n",
       "\n",
       "   Play Duration Milliseconds End Reason Type Source Type  Play Count  \\\n",
       "0                      231000  NOT_APPLICABLE      IPHONE           1   \n",
       "1                      221000  NOT_APPLICABLE      IPHONE           1   \n",
       "\n",
       "   Skip Count Ignore For Recommendations  Track Reference  \\\n",
       "0           0                        NaN              NaN   \n",
       "1           0                        NaN              NaN   \n",
       "\n",
       "                                   Track Description  \n",
       "0                              Glass Animals - Youth  \n",
       "1  AlunaGeorge - Mean What I Mean (feat. Leikeli4...  "
      ]
     },
     "execution_count": 30,
     "metadata": {},
     "output_type": "execute_result"
    }
   ],
   "source": [
    "tracks_df = pd.read_csv(\"./data/apple/Apple Music - Play History Daily Tracks.csv\", encoding='utf-8')\n",
    "tracks_df.head(2)"
   ]
  },
  {
   "cell_type": "code",
   "execution_count": 31,
   "metadata": {},
   "outputs": [],
   "source": [
    "tracks_df.dropna(subset=['Track Description'], inplace=True)"
   ]
  },
  {
   "cell_type": "code",
   "execution_count": 32,
   "metadata": {},
   "outputs": [],
   "source": [
    "# Split 'Track Description' into 'Artist' and 'Song Name'\n",
    "split_columns = tracks_df['Track Description'].str.split(' - ', expand=True)\n",
    "tracks_df['Artist'] = split_columns[0]\n",
    "tracks_df['Song Name'] = split_columns[1]"
   ]
  },
  {
   "cell_type": "code",
   "execution_count": 33,
   "metadata": {},
   "outputs": [
    {
     "data": {
      "text/html": [
       "<div>\n",
       "<style scoped>\n",
       "    .dataframe tbody tr th:only-of-type {\n",
       "        vertical-align: middle;\n",
       "    }\n",
       "\n",
       "    .dataframe tbody tr th {\n",
       "        vertical-align: top;\n",
       "    }\n",
       "\n",
       "    .dataframe thead th {\n",
       "        text-align: right;\n",
       "    }\n",
       "</style>\n",
       "<table border=\"1\" class=\"dataframe\">\n",
       "  <thead>\n",
       "    <tr style=\"text-align: right;\">\n",
       "      <th></th>\n",
       "      <th>Country</th>\n",
       "      <th>Track Identifier</th>\n",
       "      <th>Media type</th>\n",
       "      <th>Date Played</th>\n",
       "      <th>Hours</th>\n",
       "      <th>Play Duration Milliseconds</th>\n",
       "      <th>End Reason Type</th>\n",
       "      <th>Source Type</th>\n",
       "      <th>Play Count</th>\n",
       "      <th>Skip Count</th>\n",
       "      <th>Ignore For Recommendations</th>\n",
       "      <th>Track Reference</th>\n",
       "      <th>Track Description</th>\n",
       "      <th>Artist</th>\n",
       "      <th>Song Name</th>\n",
       "    </tr>\n",
       "  </thead>\n",
       "  <tbody>\n",
       "    <tr>\n",
       "      <th>0</th>\n",
       "      <td>United Kingdom</td>\n",
       "      <td>1116868327</td>\n",
       "      <td>AUDIO</td>\n",
       "      <td>20160828</td>\n",
       "      <td>21</td>\n",
       "      <td>231000</td>\n",
       "      <td>NOT_APPLICABLE</td>\n",
       "      <td>IPHONE</td>\n",
       "      <td>1</td>\n",
       "      <td>0</td>\n",
       "      <td>NaN</td>\n",
       "      <td>NaN</td>\n",
       "      <td>Glass Animals - Youth</td>\n",
       "      <td>Glass Animals</td>\n",
       "      <td>Youth</td>\n",
       "    </tr>\n",
       "    <tr>\n",
       "      <th>1</th>\n",
       "      <td>United Kingdom</td>\n",
       "      <td>1129287609</td>\n",
       "      <td>AUDIO</td>\n",
       "      <td>20160828</td>\n",
       "      <td>21</td>\n",
       "      <td>221000</td>\n",
       "      <td>NOT_APPLICABLE</td>\n",
       "      <td>IPHONE</td>\n",
       "      <td>1</td>\n",
       "      <td>0</td>\n",
       "      <td>NaN</td>\n",
       "      <td>NaN</td>\n",
       "      <td>AlunaGeorge - Mean What I Mean (feat. Leikeli4...</td>\n",
       "      <td>AlunaGeorge</td>\n",
       "      <td>Mean What I Mean (feat. Leikeli47 &amp; Dreezy)</td>\n",
       "    </tr>\n",
       "  </tbody>\n",
       "</table>\n",
       "</div>"
      ],
      "text/plain": [
       "          Country  Track Identifier Media type  Date Played Hours  \\\n",
       "0  United Kingdom        1116868327      AUDIO     20160828    21   \n",
       "1  United Kingdom        1129287609      AUDIO     20160828    21   \n",
       "\n",
       "   Play Duration Milliseconds End Reason Type Source Type  Play Count  \\\n",
       "0                      231000  NOT_APPLICABLE      IPHONE           1   \n",
       "1                      221000  NOT_APPLICABLE      IPHONE           1   \n",
       "\n",
       "   Skip Count Ignore For Recommendations  Track Reference  \\\n",
       "0           0                        NaN              NaN   \n",
       "1           0                        NaN              NaN   \n",
       "\n",
       "                                   Track Description         Artist  \\\n",
       "0                              Glass Animals - Youth  Glass Animals   \n",
       "1  AlunaGeorge - Mean What I Mean (feat. Leikeli4...    AlunaGeorge   \n",
       "\n",
       "                                     Song Name  \n",
       "0                                        Youth  \n",
       "1  Mean What I Mean (feat. Leikeli47 & Dreezy)  "
      ]
     },
     "execution_count": 33,
     "metadata": {},
     "output_type": "execute_result"
    }
   ],
   "source": [
    "tracks_df.head(2)"
   ]
  },
  {
   "cell_type": "markdown",
   "metadata": {},
   "source": [
    "#### Get Artist - Song unique dataframe"
   ]
  },
  {
   "cell_type": "code",
   "execution_count": 34,
   "metadata": {},
   "outputs": [],
   "source": [
    "artist_song_df = tracks_df.filter(['Artist', 'Song Name'])\n",
    "artist_song_df = artist_song_df.drop_duplicates()\n",
    "artist_song_df = artist_song_df.dropna(how='any')"
   ]
  },
  {
   "cell_type": "code",
   "execution_count": 35,
   "metadata": {},
   "outputs": [
    {
     "data": {
      "text/html": [
       "<div>\n",
       "<style scoped>\n",
       "    .dataframe tbody tr th:only-of-type {\n",
       "        vertical-align: middle;\n",
       "    }\n",
       "\n",
       "    .dataframe tbody tr th {\n",
       "        vertical-align: top;\n",
       "    }\n",
       "\n",
       "    .dataframe thead th {\n",
       "        text-align: right;\n",
       "    }\n",
       "</style>\n",
       "<table border=\"1\" class=\"dataframe\">\n",
       "  <thead>\n",
       "    <tr style=\"text-align: right;\">\n",
       "      <th></th>\n",
       "      <th>Artist</th>\n",
       "      <th>Song Name</th>\n",
       "    </tr>\n",
       "  </thead>\n",
       "  <tbody>\n",
       "    <tr>\n",
       "      <th>count</th>\n",
       "      <td>5223</td>\n",
       "      <td>5223</td>\n",
       "    </tr>\n",
       "    <tr>\n",
       "      <th>unique</th>\n",
       "      <td>2182</td>\n",
       "      <td>5070</td>\n",
       "    </tr>\n",
       "    <tr>\n",
       "      <th>top</th>\n",
       "      <td>NOFX</td>\n",
       "      <td>Butterfly</td>\n",
       "    </tr>\n",
       "    <tr>\n",
       "      <th>freq</th>\n",
       "      <td>153</td>\n",
       "      <td>4</td>\n",
       "    </tr>\n",
       "  </tbody>\n",
       "</table>\n",
       "</div>"
      ],
      "text/plain": [
       "       Artist  Song Name\n",
       "count    5223       5223\n",
       "unique   2182       5070\n",
       "top      NOFX  Butterfly\n",
       "freq      153          4"
      ]
     },
     "execution_count": 35,
     "metadata": {},
     "output_type": "execute_result"
    }
   ],
   "source": [
    "artist_song_df.describe()"
   ]
  },
  {
   "cell_type": "code",
   "execution_count": 36,
   "metadata": {},
   "outputs": [
    {
     "data": {
      "text/html": [
       "<div>\n",
       "<style scoped>\n",
       "    .dataframe tbody tr th:only-of-type {\n",
       "        vertical-align: middle;\n",
       "    }\n",
       "\n",
       "    .dataframe tbody tr th {\n",
       "        vertical-align: top;\n",
       "    }\n",
       "\n",
       "    .dataframe thead th {\n",
       "        text-align: right;\n",
       "    }\n",
       "</style>\n",
       "<table border=\"1\" class=\"dataframe\">\n",
       "  <thead>\n",
       "    <tr style=\"text-align: right;\">\n",
       "      <th></th>\n",
       "      <th>Artist</th>\n",
       "      <th>Song Name</th>\n",
       "    </tr>\n",
       "  </thead>\n",
       "  <tbody>\n",
       "    <tr>\n",
       "      <th>0</th>\n",
       "      <td>Glass Animals</td>\n",
       "      <td>Youth</td>\n",
       "    </tr>\n",
       "    <tr>\n",
       "      <th>1</th>\n",
       "      <td>AlunaGeorge</td>\n",
       "      <td>Mean What I Mean (feat. Leikeli47 &amp; Dreezy)</td>\n",
       "    </tr>\n",
       "    <tr>\n",
       "      <th>4</th>\n",
       "      <td>Christine and the Queens</td>\n",
       "      <td>Tilted</td>\n",
       "    </tr>\n",
       "    <tr>\n",
       "      <th>6</th>\n",
       "      <td>Whitney Houston</td>\n",
       "      <td>I Wanna Dance With Somebody (2000 Remaster)</td>\n",
       "    </tr>\n",
       "    <tr>\n",
       "      <th>7</th>\n",
       "      <td>Backstreet Boys</td>\n",
       "      <td>Everybody (Backstreet's Back) [Extended Version]</td>\n",
       "    </tr>\n",
       "  </tbody>\n",
       "</table>\n",
       "</div>"
      ],
      "text/plain": [
       "                     Artist                                         Song Name\n",
       "0             Glass Animals                                             Youth\n",
       "1               AlunaGeorge       Mean What I Mean (feat. Leikeli47 & Dreezy)\n",
       "4  Christine and the Queens                                            Tilted\n",
       "6           Whitney Houston       I Wanna Dance With Somebody (2000 Remaster)\n",
       "7           Backstreet Boys  Everybody (Backstreet's Back) [Extended Version]"
      ]
     },
     "execution_count": 36,
     "metadata": {},
     "output_type": "execute_result"
    }
   ],
   "source": [
    "artist_song_df.head()"
   ]
  },
  {
   "cell_type": "markdown",
   "metadata": {},
   "source": [
    "### Fuzzy match setup"
   ]
  },
  {
   "cell_type": "code",
   "execution_count": 37,
   "metadata": {},
   "outputs": [],
   "source": [
    "from thefuzz import fuzz\n",
    "from thefuzz import process"
   ]
  },
  {
   "cell_type": "code",
   "execution_count": 38,
   "metadata": {},
   "outputs": [],
   "source": [
    "def normalize(text):\n",
    "    if isinstance(text, str):\n",
    "        return text.lower().strip()\n",
    "    else:\n",
    "        return str(text).lower().strip()"
   ]
  },
  {
   "cell_type": "code",
   "execution_count": 39,
   "metadata": {},
   "outputs": [],
   "source": [
    "def get_fuzzy_artist(name, choices, scorer, cutoff):\n",
    "    match = process.extractOne(name, choices, scorer=scorer, score_cutoff=cutoff)\n",
    "    if match:\n",
    "        return match[0]\n",
    "    else:\n",
    "        return None"
   ]
  },
  {
   "cell_type": "code",
   "execution_count": 40,
   "metadata": {},
   "outputs": [],
   "source": [
    "def get_fuzzy_album(name, choices, scorer, cutoff):\n",
    "    match = process.extractOne(name, choices, scorer=scorer, score_cutoff=cutoff)\n",
    "    if match:\n",
    "        return match[0]\n",
    "    else:\n",
    "        return None"
   ]
  },
  {
   "cell_type": "markdown",
   "metadata": {},
   "source": [
    "#### Match Artist-Song to Artist-Album-Song"
   ]
  },
  {
   "cell_type": "code",
   "execution_count": 41,
   "metadata": {},
   "outputs": [],
   "source": [
    "df1 = artist_song_df\n",
    "df2 = artist_album_song_df"
   ]
  },
  {
   "cell_type": "code",
   "execution_count": 42,
   "metadata": {},
   "outputs": [],
   "source": [
    "df1['key'] = df1['Artist'] + ' ' + df1['Song Name']\n",
    "df2['key'] = df2['Artist'] + ' ' + df2['Title']"
   ]
  },
  {
   "cell_type": "code",
   "execution_count": 43,
   "metadata": {},
   "outputs": [],
   "source": [
    "df1['key'] = df1['key'].apply(normalize)\n",
    "df2['key'] = df2['key'].apply(normalize)"
   ]
  },
  {
   "cell_type": "code",
   "execution_count": 44,
   "metadata": {},
   "outputs": [
    {
     "data": {
      "text/html": [
       "<div>\n",
       "<style scoped>\n",
       "    .dataframe tbody tr th:only-of-type {\n",
       "        vertical-align: middle;\n",
       "    }\n",
       "\n",
       "    .dataframe tbody tr th {\n",
       "        vertical-align: top;\n",
       "    }\n",
       "\n",
       "    .dataframe thead th {\n",
       "        text-align: right;\n",
       "    }\n",
       "</style>\n",
       "<table border=\"1\" class=\"dataframe\">\n",
       "  <thead>\n",
       "    <tr style=\"text-align: right;\">\n",
       "      <th></th>\n",
       "      <th>Artist</th>\n",
       "      <th>Song Name</th>\n",
       "      <th>key</th>\n",
       "    </tr>\n",
       "  </thead>\n",
       "  <tbody>\n",
       "    <tr>\n",
       "      <th>0</th>\n",
       "      <td>Glass Animals</td>\n",
       "      <td>Youth</td>\n",
       "      <td>glass animals youth</td>\n",
       "    </tr>\n",
       "    <tr>\n",
       "      <th>1</th>\n",
       "      <td>AlunaGeorge</td>\n",
       "      <td>Mean What I Mean (feat. Leikeli47 &amp; Dreezy)</td>\n",
       "      <td>alunageorge mean what i mean (feat. leikeli47 ...</td>\n",
       "    </tr>\n",
       "    <tr>\n",
       "      <th>4</th>\n",
       "      <td>Christine and the Queens</td>\n",
       "      <td>Tilted</td>\n",
       "      <td>christine and the queens tilted</td>\n",
       "    </tr>\n",
       "    <tr>\n",
       "      <th>6</th>\n",
       "      <td>Whitney Houston</td>\n",
       "      <td>I Wanna Dance With Somebody (2000 Remaster)</td>\n",
       "      <td>whitney houston i wanna dance with somebody (2...</td>\n",
       "    </tr>\n",
       "    <tr>\n",
       "      <th>7</th>\n",
       "      <td>Backstreet Boys</td>\n",
       "      <td>Everybody (Backstreet's Back) [Extended Version]</td>\n",
       "      <td>backstreet boys everybody (backstreet's back) ...</td>\n",
       "    </tr>\n",
       "    <tr>\n",
       "      <th>8</th>\n",
       "      <td>Aqua</td>\n",
       "      <td>Barbie Girl</td>\n",
       "      <td>aqua barbie girl</td>\n",
       "    </tr>\n",
       "    <tr>\n",
       "      <th>9</th>\n",
       "      <td>Christina Aguilera, Lil' Kim, Mýa &amp; P!nk</td>\n",
       "      <td>Lady Marmalade</td>\n",
       "      <td>christina aguilera, lil' kim, mýa &amp; p!nk lady ...</td>\n",
       "    </tr>\n",
       "    <tr>\n",
       "      <th>10</th>\n",
       "      <td>S Club</td>\n",
       "      <td>Reach</td>\n",
       "      <td>s club reach</td>\n",
       "    </tr>\n",
       "    <tr>\n",
       "      <th>11</th>\n",
       "      <td>Shania Twain</td>\n",
       "      <td>Man! I Feel Like a Woman!</td>\n",
       "      <td>shania twain man! i feel like a woman!</td>\n",
       "    </tr>\n",
       "    <tr>\n",
       "      <th>12</th>\n",
       "      <td>Shania Twain</td>\n",
       "      <td>Man! I Feel Like a Woman! (International Mix)</td>\n",
       "      <td>shania twain man! i feel like a woman! (intern...</td>\n",
       "    </tr>\n",
       "  </tbody>\n",
       "</table>\n",
       "</div>"
      ],
      "text/plain": [
       "                                      Artist  \\\n",
       "0                              Glass Animals   \n",
       "1                                AlunaGeorge   \n",
       "4                   Christine and the Queens   \n",
       "6                            Whitney Houston   \n",
       "7                            Backstreet Boys   \n",
       "8                                       Aqua   \n",
       "9   Christina Aguilera, Lil' Kim, Mýa & P!nk   \n",
       "10                                    S Club   \n",
       "11                              Shania Twain   \n",
       "12                              Shania Twain   \n",
       "\n",
       "                                           Song Name  \\\n",
       "0                                              Youth   \n",
       "1        Mean What I Mean (feat. Leikeli47 & Dreezy)   \n",
       "4                                             Tilted   \n",
       "6        I Wanna Dance With Somebody (2000 Remaster)   \n",
       "7   Everybody (Backstreet's Back) [Extended Version]   \n",
       "8                                        Barbie Girl   \n",
       "9                                     Lady Marmalade   \n",
       "10                                             Reach   \n",
       "11                         Man! I Feel Like a Woman!   \n",
       "12     Man! I Feel Like a Woman! (International Mix)   \n",
       "\n",
       "                                                  key  \n",
       "0                                 glass animals youth  \n",
       "1   alunageorge mean what i mean (feat. leikeli47 ...  \n",
       "4                     christine and the queens tilted  \n",
       "6   whitney houston i wanna dance with somebody (2...  \n",
       "7   backstreet boys everybody (backstreet's back) ...  \n",
       "8                                    aqua barbie girl  \n",
       "9   christina aguilera, lil' kim, mýa & p!nk lady ...  \n",
       "10                                       s club reach  \n",
       "11             shania twain man! i feel like a woman!  \n",
       "12  shania twain man! i feel like a woman! (intern...  "
      ]
     },
     "execution_count": 44,
     "metadata": {},
     "output_type": "execute_result"
    }
   ],
   "source": [
    "df1.head(10)"
   ]
  },
  {
   "cell_type": "code",
   "execution_count": 45,
   "metadata": {},
   "outputs": [
    {
     "data": {
      "text/html": [
       "<div>\n",
       "<style scoped>\n",
       "    .dataframe tbody tr th:only-of-type {\n",
       "        vertical-align: middle;\n",
       "    }\n",
       "\n",
       "    .dataframe tbody tr th {\n",
       "        vertical-align: top;\n",
       "    }\n",
       "\n",
       "    .dataframe thead th {\n",
       "        text-align: right;\n",
       "    }\n",
       "</style>\n",
       "<table border=\"1\" class=\"dataframe\">\n",
       "  <thead>\n",
       "    <tr style=\"text-align: right;\">\n",
       "      <th></th>\n",
       "      <th>Artist</th>\n",
       "      <th>Album</th>\n",
       "      <th>Title</th>\n",
       "      <th>key</th>\n",
       "    </tr>\n",
       "  </thead>\n",
       "  <tbody>\n",
       "    <tr>\n",
       "      <th>0</th>\n",
       "      <td>shy fx &amp; t-power</td>\n",
       "      <td>Set It Off</td>\n",
       "      <td>Shake Ur Body (feat. Di)</td>\n",
       "      <td>shy fx &amp; t-power shake ur body (feat. di)</td>\n",
       "    </tr>\n",
       "    <tr>\n",
       "      <th>1</th>\n",
       "      <td>the cranberries</td>\n",
       "      <td>No Need To Argue (Remastered 2020)</td>\n",
       "      <td>Zombie</td>\n",
       "      <td>the cranberries zombie</td>\n",
       "    </tr>\n",
       "    <tr>\n",
       "      <th>2</th>\n",
       "      <td>spooks</td>\n",
       "      <td>S.I.O.S.O.S., Vol. One (Remastered)</td>\n",
       "      <td>Karma Hotel</td>\n",
       "      <td>spooks karma hotel</td>\n",
       "    </tr>\n",
       "    <tr>\n",
       "      <th>3</th>\n",
       "      <td>major lazer</td>\n",
       "      <td>Cold Water (feat. Justin Bieber &amp; MØ) - Single</td>\n",
       "      <td>Cold Water (feat. Justin Bieber &amp; MØ)</td>\n",
       "      <td>major lazer cold water (feat. justin bieber &amp; mø)</td>\n",
       "    </tr>\n",
       "    <tr>\n",
       "      <th>4</th>\n",
       "      <td>taylor swift</td>\n",
       "      <td>reputation</td>\n",
       "      <td>...Ready For It?</td>\n",
       "      <td>taylor swift ...ready for it?</td>\n",
       "    </tr>\n",
       "    <tr>\n",
       "      <th>5</th>\n",
       "      <td>krept &amp; konan &amp; wizkid</td>\n",
       "      <td>Revenge Is Sweet</td>\n",
       "      <td>G Love</td>\n",
       "      <td>krept &amp; konan &amp; wizkid g love</td>\n",
       "    </tr>\n",
       "    <tr>\n",
       "      <th>6</th>\n",
       "      <td>drapht</td>\n",
       "      <td>Brothers Grimm</td>\n",
       "      <td>Jimmy Recard</td>\n",
       "      <td>drapht jimmy recard</td>\n",
       "    </tr>\n",
       "    <tr>\n",
       "      <th>7</th>\n",
       "      <td>pras</td>\n",
       "      <td>Ghetto Supastar</td>\n",
       "      <td>Ghetto Supastar (That Is What You Are)</td>\n",
       "      <td>pras ghetto supastar (that is what you are)</td>\n",
       "    </tr>\n",
       "    <tr>\n",
       "      <th>8</th>\n",
       "      <td>rihanna</td>\n",
       "      <td>A Girl Like Me</td>\n",
       "      <td>Unfaithful</td>\n",
       "      <td>rihanna unfaithful</td>\n",
       "    </tr>\n",
       "    <tr>\n",
       "      <th>9</th>\n",
       "      <td>mad caddies</td>\n",
       "      <td>Punk Rocksteady</td>\n",
       "      <td>She</td>\n",
       "      <td>mad caddies she</td>\n",
       "    </tr>\n",
       "  </tbody>\n",
       "</table>\n",
       "</div>"
      ],
      "text/plain": [
       "                   Artist                                           Album  \\\n",
       "0        shy fx & t-power                                      Set It Off   \n",
       "1         the cranberries              No Need To Argue (Remastered 2020)   \n",
       "2                  spooks             S.I.O.S.O.S., Vol. One (Remastered)   \n",
       "3             major lazer  Cold Water (feat. Justin Bieber & MØ) - Single   \n",
       "4            taylor swift                                      reputation   \n",
       "5  krept & konan & wizkid                                Revenge Is Sweet   \n",
       "6                  drapht                                  Brothers Grimm   \n",
       "7                    pras                                 Ghetto Supastar   \n",
       "8                 rihanna                                  A Girl Like Me   \n",
       "9             mad caddies                                 Punk Rocksteady   \n",
       "\n",
       "                                    Title  \\\n",
       "0                Shake Ur Body (feat. Di)   \n",
       "1                                  Zombie   \n",
       "2                             Karma Hotel   \n",
       "3   Cold Water (feat. Justin Bieber & MØ)   \n",
       "4                        ...Ready For It?   \n",
       "5                                  G Love   \n",
       "6                            Jimmy Recard   \n",
       "7  Ghetto Supastar (That Is What You Are)   \n",
       "8                              Unfaithful   \n",
       "9                                     She   \n",
       "\n",
       "                                                 key  \n",
       "0          shy fx & t-power shake ur body (feat. di)  \n",
       "1                             the cranberries zombie  \n",
       "2                                 spooks karma hotel  \n",
       "3  major lazer cold water (feat. justin bieber & mø)  \n",
       "4                      taylor swift ...ready for it?  \n",
       "5                      krept & konan & wizkid g love  \n",
       "6                                drapht jimmy recard  \n",
       "7        pras ghetto supastar (that is what you are)  \n",
       "8                                 rihanna unfaithful  \n",
       "9                                    mad caddies she  "
      ]
     },
     "execution_count": 45,
     "metadata": {},
     "output_type": "execute_result"
    }
   ],
   "source": [
    "df2.head(10)"
   ]
  },
  {
   "cell_type": "code",
   "execution_count": 78,
   "metadata": {},
   "outputs": [
    {
     "data": {
      "text/html": [
       "<div>\n",
       "<style scoped>\n",
       "    .dataframe tbody tr th:only-of-type {\n",
       "        vertical-align: middle;\n",
       "    }\n",
       "\n",
       "    .dataframe tbody tr th {\n",
       "        vertical-align: top;\n",
       "    }\n",
       "\n",
       "    .dataframe thead th {\n",
       "        text-align: right;\n",
       "    }\n",
       "</style>\n",
       "<table border=\"1\" class=\"dataframe\">\n",
       "  <thead>\n",
       "    <tr style=\"text-align: right;\">\n",
       "      <th></th>\n",
       "      <th>Artist</th>\n",
       "      <th>Album</th>\n",
       "      <th>Title</th>\n",
       "      <th>key</th>\n",
       "    </tr>\n",
       "  </thead>\n",
       "  <tbody>\n",
       "    <tr>\n",
       "      <th>423</th>\n",
       "      <td>alicia keys</td>\n",
       "      <td>As I Am</td>\n",
       "      <td>As I Am</td>\n",
       "      <td>alicia keys as i am</td>\n",
       "    </tr>\n",
       "    <tr>\n",
       "      <th>589</th>\n",
       "      <td>alicia keys</td>\n",
       "      <td>Here</td>\n",
       "      <td>The Beginning (Interlude)</td>\n",
       "      <td>alicia keys the beginning (interlude)</td>\n",
       "    </tr>\n",
       "    <tr>\n",
       "      <th>705</th>\n",
       "      <td>alicia keys</td>\n",
       "      <td>Here</td>\n",
       "      <td>Blended Family (What You Do for Love)</td>\n",
       "      <td>alicia keys blended family (what you do for love)</td>\n",
       "    </tr>\n",
       "    <tr>\n",
       "      <th>803</th>\n",
       "      <td>alicia keys</td>\n",
       "      <td>Girl On Fire [+digital booklet]</td>\n",
       "      <td>Brand New Me</td>\n",
       "      <td>alicia keys brand new me</td>\n",
       "    </tr>\n",
       "    <tr>\n",
       "      <th>905</th>\n",
       "      <td>alicia keys</td>\n",
       "      <td>Songs in A Minor</td>\n",
       "      <td>Butterflyz</td>\n",
       "      <td>alicia keys butterflyz</td>\n",
       "    </tr>\n",
       "    <tr>\n",
       "      <th>918</th>\n",
       "      <td>alicia keys</td>\n",
       "      <td>Songs in A Minor</td>\n",
       "      <td>Caged Bird [Outro]</td>\n",
       "      <td>alicia keys caged bird [outro]</td>\n",
       "    </tr>\n",
       "    <tr>\n",
       "      <th>1153</th>\n",
       "      <td>alicia keys</td>\n",
       "      <td>Here</td>\n",
       "      <td>Cocoa Butter (Cross &amp; Pic Interlude)</td>\n",
       "      <td>alicia keys cocoa butter (cross &amp; pic interlude)</td>\n",
       "    </tr>\n",
       "    <tr>\n",
       "      <th>1366</th>\n",
       "      <td>alicia keys</td>\n",
       "      <td>Girl On Fire [+digital booklet]</td>\n",
       "      <td>De Novo Adagio (Intro)</td>\n",
       "      <td>alicia keys de novo adagio (intro)</td>\n",
       "    </tr>\n",
       "    <tr>\n",
       "      <th>1434</th>\n",
       "      <td>alicia keys</td>\n",
       "      <td>The Diary of Alicia Keys</td>\n",
       "      <td>Diary ft Tony Toni Tone</td>\n",
       "      <td>alicia keys diary ft tony toni tone</td>\n",
       "    </tr>\n",
       "    <tr>\n",
       "      <th>1478</th>\n",
       "      <td>alicia keys</td>\n",
       "      <td>The Element of Freedom</td>\n",
       "      <td>Distance and Time</td>\n",
       "      <td>alicia keys distance and time</td>\n",
       "    </tr>\n",
       "  </tbody>\n",
       "</table>\n",
       "</div>"
      ],
      "text/plain": [
       "           Artist                            Album  \\\n",
       "423   alicia keys                          As I Am   \n",
       "589   alicia keys                             Here   \n",
       "705   alicia keys                             Here   \n",
       "803   alicia keys  Girl On Fire [+digital booklet]   \n",
       "905   alicia keys                 Songs in A Minor   \n",
       "918   alicia keys                 Songs in A Minor   \n",
       "1153  alicia keys                             Here   \n",
       "1366  alicia keys  Girl On Fire [+digital booklet]   \n",
       "1434  alicia keys         The Diary of Alicia Keys   \n",
       "1478  alicia keys           The Element of Freedom   \n",
       "\n",
       "                                      Title  \\\n",
       "423                                 As I Am   \n",
       "589               The Beginning (Interlude)   \n",
       "705   Blended Family (What You Do for Love)   \n",
       "803                            Brand New Me   \n",
       "905                              Butterflyz   \n",
       "918                      Caged Bird [Outro]   \n",
       "1153   Cocoa Butter (Cross & Pic Interlude)   \n",
       "1366                 De Novo Adagio (Intro)   \n",
       "1434                Diary ft Tony Toni Tone   \n",
       "1478                      Distance and Time   \n",
       "\n",
       "                                                    key  \n",
       "423                                 alicia keys as i am  \n",
       "589               alicia keys the beginning (interlude)  \n",
       "705   alicia keys blended family (what you do for love)  \n",
       "803                            alicia keys brand new me  \n",
       "905                              alicia keys butterflyz  \n",
       "918                      alicia keys caged bird [outro]  \n",
       "1153   alicia keys cocoa butter (cross & pic interlude)  \n",
       "1366                 alicia keys de novo adagio (intro)  \n",
       "1434                alicia keys diary ft tony toni tone  \n",
       "1478                      alicia keys distance and time  "
      ]
     },
     "execution_count": 78,
     "metadata": {},
     "output_type": "execute_result"
    }
   ],
   "source": [
    "df2[df2[\"Artist\"] == \"alicia keys\"][0:10]"
   ]
  },
  {
   "cell_type": "code",
   "execution_count": 47,
   "metadata": {},
   "outputs": [],
   "source": [
    "df1['matched_key_partial_ratio'] = df1['key'].apply(\n",
    "    lambda x: get_fuzzy_artist(x, df2['key'], scorer=fuzz.partial_ratio, cutoff=95)\n",
    ")"
   ]
  },
  {
   "cell_type": "code",
   "execution_count": 69,
   "metadata": {},
   "outputs": [],
   "source": [
    "df1['matched_key_token_sort_ratio'] = df1['key'].apply(\n",
    "    lambda x: get_fuzzy_artist(x, df2['key'], scorer=fuzz.token_sort_ratio, cutoff=90)\n",
    ")"
   ]
  },
  {
   "cell_type": "code",
   "execution_count": 70,
   "metadata": {},
   "outputs": [
    {
     "name": "stdout",
     "output_type": "stream",
     "text": [
      "Is Nan: 4278\n",
      "Not NaN: 945\n"
     ]
    }
   ],
   "source": [
    "print(f\"Is Nan: {df1['matched_key_partial_ratio'].isna().sum()}\")\n",
    "print(f\"Not NaN: {df1['matched_key_partial_ratio'].notna().sum()}\")"
   ]
  },
  {
   "cell_type": "code",
   "execution_count": 71,
   "metadata": {},
   "outputs": [
    {
     "data": {
      "text/html": [
       "<div>\n",
       "<style scoped>\n",
       "    .dataframe tbody tr th:only-of-type {\n",
       "        vertical-align: middle;\n",
       "    }\n",
       "\n",
       "    .dataframe tbody tr th {\n",
       "        vertical-align: top;\n",
       "    }\n",
       "\n",
       "    .dataframe thead th {\n",
       "        text-align: right;\n",
       "    }\n",
       "</style>\n",
       "<table border=\"1\" class=\"dataframe\">\n",
       "  <thead>\n",
       "    <tr style=\"text-align: right;\">\n",
       "      <th></th>\n",
       "      <th>Artist</th>\n",
       "      <th>Song Name</th>\n",
       "      <th>key</th>\n",
       "      <th>matched_key_partial_ratio</th>\n",
       "      <th>matched_key_token_sort_ratio</th>\n",
       "    </tr>\n",
       "  </thead>\n",
       "  <tbody>\n",
       "    <tr>\n",
       "      <th>7</th>\n",
       "      <td>Backstreet Boys</td>\n",
       "      <td>Everybody (Backstreet's Back) [Extended Version]</td>\n",
       "      <td>backstreet boys everybody (backstreet's back) ...</td>\n",
       "      <td>backstreet boys everybody (backstreets back)</td>\n",
       "      <td>None</td>\n",
       "    </tr>\n",
       "    <tr>\n",
       "      <th>20</th>\n",
       "      <td>Five</td>\n",
       "      <td>Keep On Movin'</td>\n",
       "      <td>five keep on movin'</td>\n",
       "      <td>five keep on movin'</td>\n",
       "      <td>five keep on movin'</td>\n",
       "    </tr>\n",
       "    <tr>\n",
       "      <th>26</th>\n",
       "      <td>Toploader</td>\n",
       "      <td>Dancing In the Moonlight</td>\n",
       "      <td>toploader dancing in the moonlight</td>\n",
       "      <td>toploader dancing in the moonlight</td>\n",
       "      <td>toploader dancing in the moonlight</td>\n",
       "    </tr>\n",
       "    <tr>\n",
       "      <th>27</th>\n",
       "      <td>Westlife</td>\n",
       "      <td>Uptown Girl (Radio Edit)</td>\n",
       "      <td>westlife uptown girl (radio edit)</td>\n",
       "      <td>westlife uptown girl</td>\n",
       "      <td>None</td>\n",
       "    </tr>\n",
       "    <tr>\n",
       "      <th>33</th>\n",
       "      <td>Duran Duran</td>\n",
       "      <td>A View to a Kill</td>\n",
       "      <td>duran duran a view to a kill</td>\n",
       "      <td>duran duran a view to a kill</td>\n",
       "      <td>duran duran a view to a kill</td>\n",
       "    </tr>\n",
       "    <tr>\n",
       "      <th>34</th>\n",
       "      <td>Carly Simon</td>\n",
       "      <td>Nobody Does It Better</td>\n",
       "      <td>carly simon nobody does it better</td>\n",
       "      <td>carly simon nobody does it better</td>\n",
       "      <td>carly simon nobody does it better</td>\n",
       "    </tr>\n",
       "    <tr>\n",
       "      <th>35</th>\n",
       "      <td>Paul McCartney &amp; Wings</td>\n",
       "      <td>Live and Let Die</td>\n",
       "      <td>paul mccartney &amp; wings live and let die</td>\n",
       "      <td>wings live and let die</td>\n",
       "      <td>None</td>\n",
       "    </tr>\n",
       "    <tr>\n",
       "      <th>38</th>\n",
       "      <td>Sheena Easton</td>\n",
       "      <td>For Your Eyes Only</td>\n",
       "      <td>sheena easton for your eyes only</td>\n",
       "      <td>sheena easton for your eyes only</td>\n",
       "      <td>sheena easton for your eyes only</td>\n",
       "    </tr>\n",
       "    <tr>\n",
       "      <th>63</th>\n",
       "      <td>Taylor Swift</td>\n",
       "      <td>All Too Well (Taylor's Version)</td>\n",
       "      <td>taylor swift all too well (taylor's version)</td>\n",
       "      <td>taylor swift all too well</td>\n",
       "      <td>None</td>\n",
       "    </tr>\n",
       "    <tr>\n",
       "      <th>64</th>\n",
       "      <td>Taylor Swift</td>\n",
       "      <td>Red</td>\n",
       "      <td>taylor swift red</td>\n",
       "      <td>taylor swift red</td>\n",
       "      <td>taylor swift red</td>\n",
       "    </tr>\n",
       "  </tbody>\n",
       "</table>\n",
       "</div>"
      ],
      "text/plain": [
       "                    Artist                                         Song Name  \\\n",
       "7          Backstreet Boys  Everybody (Backstreet's Back) [Extended Version]   \n",
       "20                    Five                                    Keep On Movin'   \n",
       "26               Toploader                          Dancing In the Moonlight   \n",
       "27                Westlife                          Uptown Girl (Radio Edit)   \n",
       "33             Duran Duran                                  A View to a Kill   \n",
       "34             Carly Simon                             Nobody Does It Better   \n",
       "35  Paul McCartney & Wings                                  Live and Let Die   \n",
       "38           Sheena Easton                                For Your Eyes Only   \n",
       "63            Taylor Swift                   All Too Well (Taylor's Version)   \n",
       "64            Taylor Swift                                               Red   \n",
       "\n",
       "                                                  key  \\\n",
       "7   backstreet boys everybody (backstreet's back) ...   \n",
       "20                                five keep on movin'   \n",
       "26                 toploader dancing in the moonlight   \n",
       "27                  westlife uptown girl (radio edit)   \n",
       "33                       duran duran a view to a kill   \n",
       "34                  carly simon nobody does it better   \n",
       "35            paul mccartney & wings live and let die   \n",
       "38                   sheena easton for your eyes only   \n",
       "63       taylor swift all too well (taylor's version)   \n",
       "64                                   taylor swift red   \n",
       "\n",
       "                       matched_key_partial_ratio  \\\n",
       "7   backstreet boys everybody (backstreets back)   \n",
       "20                           five keep on movin'   \n",
       "26            toploader dancing in the moonlight   \n",
       "27                          westlife uptown girl   \n",
       "33                  duran duran a view to a kill   \n",
       "34             carly simon nobody does it better   \n",
       "35                        wings live and let die   \n",
       "38              sheena easton for your eyes only   \n",
       "63                     taylor swift all too well   \n",
       "64                              taylor swift red   \n",
       "\n",
       "          matched_key_token_sort_ratio  \n",
       "7                                 None  \n",
       "20                 five keep on movin'  \n",
       "26  toploader dancing in the moonlight  \n",
       "27                                None  \n",
       "33        duran duran a view to a kill  \n",
       "34   carly simon nobody does it better  \n",
       "35                                None  \n",
       "38    sheena easton for your eyes only  \n",
       "63                                None  \n",
       "64                    taylor swift red  "
      ]
     },
     "execution_count": 71,
     "metadata": {},
     "output_type": "execute_result"
    }
   ],
   "source": [
    "not_nan_df = df1[df1['matched_key_partial_ratio'].notna()]\n",
    "not_nan_df.head(10)"
   ]
  },
  {
   "cell_type": "code",
   "execution_count": 72,
   "metadata": {},
   "outputs": [
    {
     "data": {
      "text/html": [
       "<div>\n",
       "<style scoped>\n",
       "    .dataframe tbody tr th:only-of-type {\n",
       "        vertical-align: middle;\n",
       "    }\n",
       "\n",
       "    .dataframe tbody tr th {\n",
       "        vertical-align: top;\n",
       "    }\n",
       "\n",
       "    .dataframe thead th {\n",
       "        text-align: right;\n",
       "    }\n",
       "</style>\n",
       "<table border=\"1\" class=\"dataframe\">\n",
       "  <thead>\n",
       "    <tr style=\"text-align: right;\">\n",
       "      <th></th>\n",
       "      <th>Artist</th>\n",
       "      <th>Song Name</th>\n",
       "      <th>key</th>\n",
       "      <th>matched_key_partial_ratio</th>\n",
       "      <th>matched_key_token_sort_ratio</th>\n",
       "    </tr>\n",
       "  </thead>\n",
       "  <tbody>\n",
       "    <tr>\n",
       "      <th>0</th>\n",
       "      <td>Glass Animals</td>\n",
       "      <td>Youth</td>\n",
       "      <td>glass animals youth</td>\n",
       "      <td>None</td>\n",
       "      <td>None</td>\n",
       "    </tr>\n",
       "    <tr>\n",
       "      <th>1</th>\n",
       "      <td>AlunaGeorge</td>\n",
       "      <td>Mean What I Mean (feat. Leikeli47 &amp; Dreezy)</td>\n",
       "      <td>alunageorge mean what i mean (feat. leikeli47 ...</td>\n",
       "      <td>None</td>\n",
       "      <td>None</td>\n",
       "    </tr>\n",
       "    <tr>\n",
       "      <th>4</th>\n",
       "      <td>Christine and the Queens</td>\n",
       "      <td>Tilted</td>\n",
       "      <td>christine and the queens tilted</td>\n",
       "      <td>None</td>\n",
       "      <td>None</td>\n",
       "    </tr>\n",
       "    <tr>\n",
       "      <th>6</th>\n",
       "      <td>Whitney Houston</td>\n",
       "      <td>I Wanna Dance With Somebody (2000 Remaster)</td>\n",
       "      <td>whitney houston i wanna dance with somebody (2...</td>\n",
       "      <td>None</td>\n",
       "      <td>None</td>\n",
       "    </tr>\n",
       "    <tr>\n",
       "      <th>8</th>\n",
       "      <td>Aqua</td>\n",
       "      <td>Barbie Girl</td>\n",
       "      <td>aqua barbie girl</td>\n",
       "      <td>None</td>\n",
       "      <td>None</td>\n",
       "    </tr>\n",
       "    <tr>\n",
       "      <th>9</th>\n",
       "      <td>Christina Aguilera, Lil' Kim, Mýa &amp; P!nk</td>\n",
       "      <td>Lady Marmalade</td>\n",
       "      <td>christina aguilera, lil' kim, mýa &amp; p!nk lady ...</td>\n",
       "      <td>None</td>\n",
       "      <td>None</td>\n",
       "    </tr>\n",
       "    <tr>\n",
       "      <th>10</th>\n",
       "      <td>S Club</td>\n",
       "      <td>Reach</td>\n",
       "      <td>s club reach</td>\n",
       "      <td>None</td>\n",
       "      <td>s club 7 reach</td>\n",
       "    </tr>\n",
       "    <tr>\n",
       "      <th>11</th>\n",
       "      <td>Shania Twain</td>\n",
       "      <td>Man! I Feel Like a Woman!</td>\n",
       "      <td>shania twain man! i feel like a woman!</td>\n",
       "      <td>None</td>\n",
       "      <td>None</td>\n",
       "    </tr>\n",
       "    <tr>\n",
       "      <th>12</th>\n",
       "      <td>Shania Twain</td>\n",
       "      <td>Man! I Feel Like a Woman! (International Mix)</td>\n",
       "      <td>shania twain man! i feel like a woman! (intern...</td>\n",
       "      <td>None</td>\n",
       "      <td>None</td>\n",
       "    </tr>\n",
       "    <tr>\n",
       "      <th>13</th>\n",
       "      <td>Lou Bega</td>\n",
       "      <td>Mambo No. 5 (a Little Bit of...)</td>\n",
       "      <td>lou bega mambo no. 5 (a little bit of...)</td>\n",
       "      <td>None</td>\n",
       "      <td>None</td>\n",
       "    </tr>\n",
       "  </tbody>\n",
       "</table>\n",
       "</div>"
      ],
      "text/plain": [
       "                                      Artist  \\\n",
       "0                              Glass Animals   \n",
       "1                                AlunaGeorge   \n",
       "4                   Christine and the Queens   \n",
       "6                            Whitney Houston   \n",
       "8                                       Aqua   \n",
       "9   Christina Aguilera, Lil' Kim, Mýa & P!nk   \n",
       "10                                    S Club   \n",
       "11                              Shania Twain   \n",
       "12                              Shania Twain   \n",
       "13                                  Lou Bega   \n",
       "\n",
       "                                        Song Name  \\\n",
       "0                                           Youth   \n",
       "1     Mean What I Mean (feat. Leikeli47 & Dreezy)   \n",
       "4                                          Tilted   \n",
       "6     I Wanna Dance With Somebody (2000 Remaster)   \n",
       "8                                     Barbie Girl   \n",
       "9                                  Lady Marmalade   \n",
       "10                                          Reach   \n",
       "11                      Man! I Feel Like a Woman!   \n",
       "12  Man! I Feel Like a Woman! (International Mix)   \n",
       "13               Mambo No. 5 (a Little Bit of...)   \n",
       "\n",
       "                                                  key  \\\n",
       "0                                 glass animals youth   \n",
       "1   alunageorge mean what i mean (feat. leikeli47 ...   \n",
       "4                     christine and the queens tilted   \n",
       "6   whitney houston i wanna dance with somebody (2...   \n",
       "8                                    aqua barbie girl   \n",
       "9   christina aguilera, lil' kim, mýa & p!nk lady ...   \n",
       "10                                       s club reach   \n",
       "11             shania twain man! i feel like a woman!   \n",
       "12  shania twain man! i feel like a woman! (intern...   \n",
       "13          lou bega mambo no. 5 (a little bit of...)   \n",
       "\n",
       "   matched_key_partial_ratio matched_key_token_sort_ratio  \n",
       "0                       None                         None  \n",
       "1                       None                         None  \n",
       "4                       None                         None  \n",
       "6                       None                         None  \n",
       "8                       None                         None  \n",
       "9                       None                         None  \n",
       "10                      None               s club 7 reach  \n",
       "11                      None                         None  \n",
       "12                      None                         None  \n",
       "13                      None                         None  "
      ]
     },
     "execution_count": 72,
     "metadata": {},
     "output_type": "execute_result"
    }
   ],
   "source": [
    "is_nan_df = df1[df1['matched_key_partial_ratio'].isna()]\n",
    "is_nan_df.head(10)"
   ]
  },
  {
   "cell_type": "code",
   "execution_count": 73,
   "metadata": {},
   "outputs": [
    {
     "name": "stdout",
     "output_type": "stream",
     "text": [
      "Is Nan: 4389\n",
      "Not NaN: 834\n"
     ]
    }
   ],
   "source": [
    "print(f\"Is Nan: {df1['matched_key_token_sort_ratio'].isna().sum()}\")\n",
    "print(f\"Not NaN: {df1['matched_key_token_sort_ratio'].notna().sum()}\")"
   ]
  },
  {
   "cell_type": "code",
   "execution_count": 79,
   "metadata": {},
   "outputs": [
    {
     "data": {
      "text/html": [
       "<div>\n",
       "<style scoped>\n",
       "    .dataframe tbody tr th:only-of-type {\n",
       "        vertical-align: middle;\n",
       "    }\n",
       "\n",
       "    .dataframe tbody tr th {\n",
       "        vertical-align: top;\n",
       "    }\n",
       "\n",
       "    .dataframe thead th {\n",
       "        text-align: right;\n",
       "    }\n",
       "</style>\n",
       "<table border=\"1\" class=\"dataframe\">\n",
       "  <thead>\n",
       "    <tr style=\"text-align: right;\">\n",
       "      <th></th>\n",
       "      <th>Artist</th>\n",
       "      <th>Song Name</th>\n",
       "      <th>key</th>\n",
       "      <th>matched_key_partial_ratio</th>\n",
       "      <th>matched_key_token_sort_ratio</th>\n",
       "    </tr>\n",
       "  </thead>\n",
       "  <tbody>\n",
       "    <tr>\n",
       "      <th>0</th>\n",
       "      <td>Glass Animals</td>\n",
       "      <td>Youth</td>\n",
       "      <td>glass animals youth</td>\n",
       "      <td>None</td>\n",
       "      <td>None</td>\n",
       "    </tr>\n",
       "    <tr>\n",
       "      <th>1</th>\n",
       "      <td>AlunaGeorge</td>\n",
       "      <td>Mean What I Mean (feat. Leikeli47 &amp; Dreezy)</td>\n",
       "      <td>alunageorge mean what i mean (feat. leikeli47 ...</td>\n",
       "      <td>None</td>\n",
       "      <td>None</td>\n",
       "    </tr>\n",
       "    <tr>\n",
       "      <th>4</th>\n",
       "      <td>Christine and the Queens</td>\n",
       "      <td>Tilted</td>\n",
       "      <td>christine and the queens tilted</td>\n",
       "      <td>None</td>\n",
       "      <td>None</td>\n",
       "    </tr>\n",
       "    <tr>\n",
       "      <th>6</th>\n",
       "      <td>Whitney Houston</td>\n",
       "      <td>I Wanna Dance With Somebody (2000 Remaster)</td>\n",
       "      <td>whitney houston i wanna dance with somebody (2...</td>\n",
       "      <td>None</td>\n",
       "      <td>None</td>\n",
       "    </tr>\n",
       "    <tr>\n",
       "      <th>7</th>\n",
       "      <td>Backstreet Boys</td>\n",
       "      <td>Everybody (Backstreet's Back) [Extended Version]</td>\n",
       "      <td>backstreet boys everybody (backstreet's back) ...</td>\n",
       "      <td>backstreet boys everybody (backstreets back)</td>\n",
       "      <td>None</td>\n",
       "    </tr>\n",
       "    <tr>\n",
       "      <th>8</th>\n",
       "      <td>Aqua</td>\n",
       "      <td>Barbie Girl</td>\n",
       "      <td>aqua barbie girl</td>\n",
       "      <td>None</td>\n",
       "      <td>None</td>\n",
       "    </tr>\n",
       "    <tr>\n",
       "      <th>9</th>\n",
       "      <td>Christina Aguilera, Lil' Kim, Mýa &amp; P!nk</td>\n",
       "      <td>Lady Marmalade</td>\n",
       "      <td>christina aguilera, lil' kim, mýa &amp; p!nk lady ...</td>\n",
       "      <td>None</td>\n",
       "      <td>None</td>\n",
       "    </tr>\n",
       "    <tr>\n",
       "      <th>11</th>\n",
       "      <td>Shania Twain</td>\n",
       "      <td>Man! I Feel Like a Woman!</td>\n",
       "      <td>shania twain man! i feel like a woman!</td>\n",
       "      <td>None</td>\n",
       "      <td>None</td>\n",
       "    </tr>\n",
       "    <tr>\n",
       "      <th>12</th>\n",
       "      <td>Shania Twain</td>\n",
       "      <td>Man! I Feel Like a Woman! (International Mix)</td>\n",
       "      <td>shania twain man! i feel like a woman! (intern...</td>\n",
       "      <td>None</td>\n",
       "      <td>None</td>\n",
       "    </tr>\n",
       "    <tr>\n",
       "      <th>13</th>\n",
       "      <td>Lou Bega</td>\n",
       "      <td>Mambo No. 5 (a Little Bit of...)</td>\n",
       "      <td>lou bega mambo no. 5 (a little bit of...)</td>\n",
       "      <td>None</td>\n",
       "      <td>None</td>\n",
       "    </tr>\n",
       "  </tbody>\n",
       "</table>\n",
       "</div>"
      ],
      "text/plain": [
       "                                      Artist  \\\n",
       "0                              Glass Animals   \n",
       "1                                AlunaGeorge   \n",
       "4                   Christine and the Queens   \n",
       "6                            Whitney Houston   \n",
       "7                            Backstreet Boys   \n",
       "8                                       Aqua   \n",
       "9   Christina Aguilera, Lil' Kim, Mýa & P!nk   \n",
       "11                              Shania Twain   \n",
       "12                              Shania Twain   \n",
       "13                                  Lou Bega   \n",
       "\n",
       "                                           Song Name  \\\n",
       "0                                              Youth   \n",
       "1        Mean What I Mean (feat. Leikeli47 & Dreezy)   \n",
       "4                                             Tilted   \n",
       "6        I Wanna Dance With Somebody (2000 Remaster)   \n",
       "7   Everybody (Backstreet's Back) [Extended Version]   \n",
       "8                                        Barbie Girl   \n",
       "9                                     Lady Marmalade   \n",
       "11                         Man! I Feel Like a Woman!   \n",
       "12     Man! I Feel Like a Woman! (International Mix)   \n",
       "13                  Mambo No. 5 (a Little Bit of...)   \n",
       "\n",
       "                                                  key  \\\n",
       "0                                 glass animals youth   \n",
       "1   alunageorge mean what i mean (feat. leikeli47 ...   \n",
       "4                     christine and the queens tilted   \n",
       "6   whitney houston i wanna dance with somebody (2...   \n",
       "7   backstreet boys everybody (backstreet's back) ...   \n",
       "8                                    aqua barbie girl   \n",
       "9   christina aguilera, lil' kim, mýa & p!nk lady ...   \n",
       "11             shania twain man! i feel like a woman!   \n",
       "12  shania twain man! i feel like a woman! (intern...   \n",
       "13          lou bega mambo no. 5 (a little bit of...)   \n",
       "\n",
       "                       matched_key_partial_ratio matched_key_token_sort_ratio  \n",
       "0                                           None                         None  \n",
       "1                                           None                         None  \n",
       "4                                           None                         None  \n",
       "6                                           None                         None  \n",
       "7   backstreet boys everybody (backstreets back)                         None  \n",
       "8                                           None                         None  \n",
       "9                                           None                         None  \n",
       "11                                          None                         None  \n",
       "12                                          None                         None  \n",
       "13                                          None                         None  "
      ]
     },
     "execution_count": 79,
     "metadata": {},
     "output_type": "execute_result"
    }
   ],
   "source": [
    "not_nan_token_ratio_df = df1[df1['matched_key_token_sort_ratio'].isna()]\n",
    "not_nan_token_ratio_df.head(10)"
   ]
  },
  {
   "cell_type": "code",
   "execution_count": 80,
   "metadata": {},
   "outputs": [],
   "source": [
    "df1[\"matched_key\"] = df1[\"matched_key_partial_ratio\"].combine_first(df1[\"matched_key_token_sort_ratio\"])"
   ]
  },
  {
   "cell_type": "code",
   "execution_count": 84,
   "metadata": {},
   "outputs": [],
   "source": [
    "df1.drop(columns=['matched_key_partial_ratio', 'matched_key_token_sort_ratio'], inplace=True)"
   ]
  },
  {
   "cell_type": "code",
   "execution_count": 86,
   "metadata": {},
   "outputs": [
    {
     "name": "stdout",
     "output_type": "stream",
     "text": [
      "Is Nan: 4214\n",
      "Not NaN: 1009\n"
     ]
    }
   ],
   "source": [
    "print(f\"Is Nan: {df1['matched_key'].isna().sum()}\")\n",
    "print(f\"Not NaN: {df1['matched_key'].notna().sum()}\")"
   ]
  },
  {
   "cell_type": "code",
   "execution_count": 87,
   "metadata": {},
   "outputs": [
    {
     "data": {
      "text/html": [
       "<div>\n",
       "<style scoped>\n",
       "    .dataframe tbody tr th:only-of-type {\n",
       "        vertical-align: middle;\n",
       "    }\n",
       "\n",
       "    .dataframe tbody tr th {\n",
       "        vertical-align: top;\n",
       "    }\n",
       "\n",
       "    .dataframe thead th {\n",
       "        text-align: right;\n",
       "    }\n",
       "</style>\n",
       "<table border=\"1\" class=\"dataframe\">\n",
       "  <thead>\n",
       "    <tr style=\"text-align: right;\">\n",
       "      <th></th>\n",
       "      <th>Artist</th>\n",
       "      <th>Song Name</th>\n",
       "      <th>key</th>\n",
       "      <th>matched_key</th>\n",
       "    </tr>\n",
       "  </thead>\n",
       "  <tbody>\n",
       "    <tr>\n",
       "      <th>0</th>\n",
       "      <td>Glass Animals</td>\n",
       "      <td>Youth</td>\n",
       "      <td>glass animals youth</td>\n",
       "      <td>None</td>\n",
       "    </tr>\n",
       "    <tr>\n",
       "      <th>1</th>\n",
       "      <td>AlunaGeorge</td>\n",
       "      <td>Mean What I Mean (feat. Leikeli47 &amp; Dreezy)</td>\n",
       "      <td>alunageorge mean what i mean (feat. leikeli47 ...</td>\n",
       "      <td>None</td>\n",
       "    </tr>\n",
       "    <tr>\n",
       "      <th>4</th>\n",
       "      <td>Christine and the Queens</td>\n",
       "      <td>Tilted</td>\n",
       "      <td>christine and the queens tilted</td>\n",
       "      <td>None</td>\n",
       "    </tr>\n",
       "    <tr>\n",
       "      <th>6</th>\n",
       "      <td>Whitney Houston</td>\n",
       "      <td>I Wanna Dance With Somebody (2000 Remaster)</td>\n",
       "      <td>whitney houston i wanna dance with somebody (2...</td>\n",
       "      <td>None</td>\n",
       "    </tr>\n",
       "    <tr>\n",
       "      <th>7</th>\n",
       "      <td>Backstreet Boys</td>\n",
       "      <td>Everybody (Backstreet's Back) [Extended Version]</td>\n",
       "      <td>backstreet boys everybody (backstreet's back) ...</td>\n",
       "      <td>backstreet boys everybody (backstreets back)</td>\n",
       "    </tr>\n",
       "    <tr>\n",
       "      <th>8</th>\n",
       "      <td>Aqua</td>\n",
       "      <td>Barbie Girl</td>\n",
       "      <td>aqua barbie girl</td>\n",
       "      <td>None</td>\n",
       "    </tr>\n",
       "    <tr>\n",
       "      <th>9</th>\n",
       "      <td>Christina Aguilera, Lil' Kim, Mýa &amp; P!nk</td>\n",
       "      <td>Lady Marmalade</td>\n",
       "      <td>christina aguilera, lil' kim, mýa &amp; p!nk lady ...</td>\n",
       "      <td>None</td>\n",
       "    </tr>\n",
       "    <tr>\n",
       "      <th>10</th>\n",
       "      <td>S Club</td>\n",
       "      <td>Reach</td>\n",
       "      <td>s club reach</td>\n",
       "      <td>s club 7 reach</td>\n",
       "    </tr>\n",
       "    <tr>\n",
       "      <th>11</th>\n",
       "      <td>Shania Twain</td>\n",
       "      <td>Man! I Feel Like a Woman!</td>\n",
       "      <td>shania twain man! i feel like a woman!</td>\n",
       "      <td>None</td>\n",
       "    </tr>\n",
       "    <tr>\n",
       "      <th>12</th>\n",
       "      <td>Shania Twain</td>\n",
       "      <td>Man! I Feel Like a Woman! (International Mix)</td>\n",
       "      <td>shania twain man! i feel like a woman! (intern...</td>\n",
       "      <td>None</td>\n",
       "    </tr>\n",
       "  </tbody>\n",
       "</table>\n",
       "</div>"
      ],
      "text/plain": [
       "                                      Artist  \\\n",
       "0                              Glass Animals   \n",
       "1                                AlunaGeorge   \n",
       "4                   Christine and the Queens   \n",
       "6                            Whitney Houston   \n",
       "7                            Backstreet Boys   \n",
       "8                                       Aqua   \n",
       "9   Christina Aguilera, Lil' Kim, Mýa & P!nk   \n",
       "10                                    S Club   \n",
       "11                              Shania Twain   \n",
       "12                              Shania Twain   \n",
       "\n",
       "                                           Song Name  \\\n",
       "0                                              Youth   \n",
       "1        Mean What I Mean (feat. Leikeli47 & Dreezy)   \n",
       "4                                             Tilted   \n",
       "6        I Wanna Dance With Somebody (2000 Remaster)   \n",
       "7   Everybody (Backstreet's Back) [Extended Version]   \n",
       "8                                        Barbie Girl   \n",
       "9                                     Lady Marmalade   \n",
       "10                                             Reach   \n",
       "11                         Man! I Feel Like a Woman!   \n",
       "12     Man! I Feel Like a Woman! (International Mix)   \n",
       "\n",
       "                                                  key  \\\n",
       "0                                 glass animals youth   \n",
       "1   alunageorge mean what i mean (feat. leikeli47 ...   \n",
       "4                     christine and the queens tilted   \n",
       "6   whitney houston i wanna dance with somebody (2...   \n",
       "7   backstreet boys everybody (backstreet's back) ...   \n",
       "8                                    aqua barbie girl   \n",
       "9   christina aguilera, lil' kim, mýa & p!nk lady ...   \n",
       "10                                       s club reach   \n",
       "11             shania twain man! i feel like a woman!   \n",
       "12  shania twain man! i feel like a woman! (intern...   \n",
       "\n",
       "                                     matched_key  \n",
       "0                                           None  \n",
       "1                                           None  \n",
       "4                                           None  \n",
       "6                                           None  \n",
       "7   backstreet boys everybody (backstreets back)  \n",
       "8                                           None  \n",
       "9                                           None  \n",
       "10                                s club 7 reach  \n",
       "11                                          None  \n",
       "12                                          None  "
      ]
     },
     "execution_count": 87,
     "metadata": {},
     "output_type": "execute_result"
    }
   ],
   "source": [
    "df1.head(10)"
   ]
  },
  {
   "cell_type": "markdown",
   "metadata": {},
   "source": [
    "### Some Last FM calls"
   ]
  },
  {
   "cell_type": "code",
   "execution_count": null,
   "metadata": {},
   "outputs": [],
   "source": [
    "artist_info = get_artist_info(\"Alicia Keys\")"
   ]
  },
  {
   "cell_type": "code",
   "execution_count": null,
   "metadata": {},
   "outputs": [],
   "source": [
    "# artist_info[\"topalbums\"]\n",
    "[album[\"name\"] for album in artist_info[\"topalbums\"][\"album\"]]"
   ]
  },
  {
   "cell_type": "code",
   "execution_count": null,
   "metadata": {},
   "outputs": [],
   "source": [
    "the_album = get_album(\"Alicia Keys\", \"Plentiful (Originals) [feat. Pusha T]\")\n",
    "print(the_album)"
   ]
  },
  {
   "cell_type": "code",
   "execution_count": null,
   "metadata": {},
   "outputs": [],
   "source": [
    "proper_album = get_album_info(\"Alicia Keys\", \"Keys II\")"
   ]
  },
  {
   "cell_type": "code",
   "execution_count": null,
   "metadata": {},
   "outputs": [],
   "source": [
    "# proper_album[\"album\"][\"tracks\"]\n",
    "[track[\"name\"] for track in proper_album[\"album\"][\"tracks\"][\"track\"]]"
   ]
  },
  {
   "cell_type": "code",
   "execution_count": null,
   "metadata": {},
   "outputs": [],
   "source": [
    "the_album"
   ]
  },
  {
   "cell_type": "code",
   "execution_count": null,
   "metadata": {},
   "outputs": [],
   "source": [
    "filtered_tracks_df['Album'] = filtered_tracks_df.apply(lambda x: get_album(x['Artist'], x['Song Name']), axis=1)"
   ]
  },
  {
   "cell_type": "code",
   "execution_count": null,
   "metadata": {},
   "outputs": [],
   "source": [
    "filtered_tracks_df.to_csv(\"filtered_tracks.csv\")"
   ]
  },
  {
   "cell_type": "code",
   "execution_count": null,
   "metadata": {},
   "outputs": [],
   "source": [
    "filtered_library_df = library_tracks.filter(['Artist', 'Title', 'Album'])\n",
    "filtered_library_df = filtered_library_df.drop_duplicates()\n",
    "filtered_library_df.head()"
   ]
  },
  {
   "cell_type": "code",
   "execution_count": null,
   "metadata": {},
   "outputs": [],
   "source": [
    "filtered_library_df.describe()"
   ]
  },
  {
   "cell_type": "markdown",
   "metadata": {},
   "source": [
    "### Fuzzy matching to combine 3 Artist - Album - Song dataframes"
   ]
  },
  {
   "cell_type": "code",
   "execution_count": null,
   "metadata": {},
   "outputs": [],
   "source": [
    "from thefuzz import fuzz\n",
    "from thefuzz import process"
   ]
  },
  {
   "cell_type": "code",
   "execution_count": null,
   "metadata": {},
   "outputs": [],
   "source": [
    "# name = \"backstreet boys everybody (backstreets back)\"\n",
    "# full_name = \"backstreet boys everybody (backstreet's back) [extended version]\"\n",
    "\n",
    "# name = \"whitney houston i wanna dance with somebody (2000 remaster)\"\n",
    "# full_name = \"whitney houston on my own\"\n",
    "\n",
    "name = \"s club reach\"\n",
    "full_name = \"s club 7 reach\"\n",
    "\n",
    "print(f\"Ratio Similarity score: {fuzz.ratio(name, full_name)}\")\n",
    "print(f\"Partial Ratio Similarity score: {fuzz.partial_ratio(name, full_name)}\")\n",
    "print(f\"Token Sort Ratio Similarity score: {fuzz.token_sort_ratio(name, full_name)}\")\n",
    "print(f\"Token Set Ratio Similarity score: {fuzz.token_set_ratio(name, full_name)}\")"
   ]
  },
  {
   "cell_type": "code",
   "execution_count": null,
   "metadata": {},
   "outputs": [],
   "source": [
    "def normalize(text):\n",
    "    if isinstance(text, str):\n",
    "        return text.lower().strip()\n",
    "    else:\n",
    "        return str(text).lower().strip()"
   ]
  },
  {
   "cell_type": "code",
   "execution_count": null,
   "metadata": {},
   "outputs": [],
   "source": [
    "# data3 = {'album': ['Album A', 'Album B', 'Album C'],\n",
    "#          'song': ['Song 1', 'Song 2', 'Song 3']}\n",
    "# df1 = pd.DataFrame(data3)\n",
    "df1 = album_song_df\n",
    "\n",
    "# data4 = {'album': ['Album A (Remastered)', 'Album B (Deluxe)', 'Album C'],\n",
    "#          'song': ['Song 1 (Radio Edit)', 'Song 2', 'Song 3 (Live)'],\n",
    "#          'artist': ['Artist X', 'Artist Y', 'Artist Z']}\n",
    "# df2 = pd.DataFrame(data4)\n",
    "df2 = artist_album_song_df"
   ]
  },
  {
   "cell_type": "code",
   "execution_count": null,
   "metadata": {},
   "outputs": [],
   "source": [
    "df1['key'] = df1['Album Name'] + ' ' + df1['Song Name']\n",
    "df2['key'] = df2['Album'] + ' ' + df2['Title']"
   ]
  },
  {
   "cell_type": "code",
   "execution_count": null,
   "metadata": {},
   "outputs": [],
   "source": [
    "df1['key'] = df1['key'].apply(normalize)\n",
    "df2['key'] = df2['key'].apply(normalize)"
   ]
  },
  {
   "cell_type": "code",
   "execution_count": null,
   "metadata": {},
   "outputs": [],
   "source": [
    "def get_fuzzy_artist(name, choices, scorer, cutoff):\n",
    "    match = process.extractOne(name, choices, scorer=scorer, score_cutoff=cutoff)\n",
    "    if match:\n",
    "        return match[0]\n",
    "    else:\n",
    "        return None"
   ]
  },
  {
   "cell_type": "code",
   "execution_count": null,
   "metadata": {},
   "outputs": [],
   "source": [
    "df1['matched_key'] = df1['key'].apply(\n",
    "    lambda x: get_fuzzy_artist(x, df2['key'], scorer=fuzz.token_set_ratio, cutoff=90)\n",
    ")"
   ]
  },
  {
   "cell_type": "code",
   "execution_count": null,
   "metadata": {},
   "outputs": [],
   "source": [
    "df1"
   ]
  },
  {
   "cell_type": "code",
   "execution_count": null,
   "metadata": {},
   "outputs": [],
   "source": [
    "df1 = df1.merge(df2[['key', 'artist']], left_on='matched_key', right_on='key', how='left')\n",
    "df1 = df1.drop(columns=['matched_key', 'key_y']).rename(columns={'key_x': 'key'})"
   ]
  },
  {
   "cell_type": "code",
   "execution_count": null,
   "metadata": {},
   "outputs": [],
   "source": [
    "df1"
   ]
  },
  {
   "cell_type": "markdown",
   "metadata": {},
   "source": [
    "# Function to find info"
   ]
  },
  {
   "cell_type": "code",
   "execution_count": null,
   "metadata": {},
   "outputs": [],
   "source": [
    "from collections import defaultdict"
   ]
  },
  {
   "cell_type": "code",
   "execution_count": null,
   "metadata": {},
   "outputs": [],
   "source": [
    "artist_dict = defaultdict(list)\n",
    "\n",
    "def find_artist_in_library(album: str, song: str):\n",
    "    artist = None\n",
    "    artists_from_track = list(filtered_tracks_df[filtered_tracks_df['Song Name'] == song][\"Artist\"].unique())\n",
    "    artists_from_album = list(filtered_library_df[filtered_library_df['Album'] == album][\"Artist\"].unique())\n",
    "    artists_from_non_exact_song_match = list(filtered_tracks_df[filtered_tracks_df.map(lambda x: song.lower() in x.lower() if isinstance(x, str) else False)[\"Song Name\"]][\"Artist\"].unique())\n",
    "    potential_artist = list(set(artists_from_track).intersection(artists_from_album))\n",
    "    if len(artists_from_track) == 1:\n",
    "        artist_dict[artists_from_track[0]].append(album)\n",
    "        artist = artists_from_track[0]\n",
    "    elif len(potential_artist) == 1:\n",
    "        artist = potential_artist[0]\n",
    "    elif not artist:\n",
    "        for a in artists_from_track:\n",
    "            try:\n",
    "                tmp_album_list = artist_dict[a]\n",
    "                if album in tmp_album_list:\n",
    "                    artist = a\n",
    "                    break\n",
    "            except KeyError:\n",
    "                pass\n",
    "    elif len(artists_from_non_exact_song_match) == 1:\n",
    "            artist = artists_from_non_exact_song_match[0]\n",
    "    else:\n",
    "        artist = \"I CANNOT FIND THE ARTIST!!!\"\n",
    "        # headers = {\"user-agent\": \"MyOwnPlaylistRecommender\"}\n",
    "        # payload = {\n",
    "        #     \"api_key\": API_KEY,\n",
    "        #     \"method\": \"artist.getInfo\",\n",
    "        #     \"format\": \"json\",\n",
    "        # }\n",
    "        # response = requests.get(f'http://ws.audioscrobbler.com/2.0/?method=track.getInfo&track={song}&artist={artist}&api_key={API_KEY}&format=json')\n",
    "        # data = response.json()\n",
    "    return artist\n",
    "\n",
    "def find_artist_from_track_only(song: str):\n",
    "    return filtered_tracks_df[filtered_tracks_df['Song Name'] == song][\"Artist\"].to_list()\n",
    "\n",
    "def find_artist_from_album_only(album: str):\n",
    "    return list(filtered_library_df[filtered_library_df['Album'] == album][\"Artist\"].unique())"
   ]
  },
  {
   "cell_type": "code",
   "execution_count": null,
   "metadata": {},
   "outputs": [],
   "source": [
    "def non_exact_track_names(song: str):\n",
    "    artist = pd.NA\n",
    "    list_of_artists = filtered_tracks_df[filtered_tracks_df.map(lambda x: song.lower() in x.lower() if isinstance(x, str) else False)[\"Song Name\"]][\"Artist\"].to_list()\n",
    "    if list_of_artists:\n",
    "        artist = list_of_artists[0]\n",
    "    return artist"
   ]
  },
  {
   "cell_type": "code",
   "execution_count": null,
   "metadata": {},
   "outputs": [],
   "source": [
    "df['Artist from track'] = df.apply(lambda x: find_artist_from_track_only(x[\"Song Name\"]), axis=1)\n",
    "df['Artist from non exact matches'] = df.apply(lambda x: non_exact_track_names(x[\"Song Name\"]), axis=1)\n",
    "df['Artist'] = df.apply(lambda x: find_artist_in_library(x[\"Album Name\"], x[\"Song Name\"]), axis=1)"
   ]
  },
  {
   "cell_type": "code",
   "execution_count": null,
   "metadata": {},
   "outputs": [],
   "source": [
    "small_df = df[['Song Name', 'Album Name', 'Artist from track', 'Artist from non exact matches', 'Artist']]"
   ]
  },
  {
   "cell_type": "code",
   "execution_count": null,
   "metadata": {},
   "outputs": [],
   "source": [
    "small_df.describe()"
   ]
  },
  {
   "cell_type": "code",
   "execution_count": null,
   "metadata": {},
   "outputs": [],
   "source": [
    "small_df.head(5)"
   ]
  },
  {
   "cell_type": "code",
   "execution_count": null,
   "metadata": {},
   "outputs": [],
   "source": [
    "small_df[\"Final Artist\"] = small_df[\"Artist\"].fillna(small_df[\"Artist from non exact matches\"])"
   ]
  },
  {
   "cell_type": "code",
   "execution_count": null,
   "metadata": {},
   "outputs": [],
   "source": [
    "no_artists = small_df[\"Final Artist\"] == \"I CANNOT FIND THE ARTIST!!!\""
   ]
  },
  {
   "cell_type": "code",
   "execution_count": null,
   "metadata": {},
   "outputs": [],
   "source": [
    "small_df[no_artists]"
   ]
  },
  {
   "cell_type": "code",
   "execution_count": null,
   "metadata": {},
   "outputs": [],
   "source": [
    "small_df['Genre'] = small_df[\"Final Artist\"].apply(get_genre)"
   ]
  },
  {
   "cell_type": "code",
   "execution_count": null,
   "metadata": {},
   "outputs": [],
   "source": [
    "small_df.head(50)"
   ]
  },
  {
   "cell_type": "markdown",
   "metadata": {},
   "source": [
    "### Merge dataframes"
   ]
  },
  {
   "cell_type": "code",
   "execution_count": null,
   "metadata": {},
   "outputs": [],
   "source": [
    "library_rename = {\"Title\": \"Song Name\", \"Album\": \"Album Name\"}\n",
    "library_tracks.rename(columns=library_rename, inplace=True)\n",
    "library_tracks.head()"
   ]
  },
  {
   "cell_type": "code",
   "execution_count": null,
   "metadata": {},
   "outputs": [],
   "source": [
    "library_tracks.describe()"
   ]
  },
  {
   "cell_type": "code",
   "execution_count": null,
   "metadata": {},
   "outputs": [],
   "source": [
    "# merge play activity df and library tracks directly\n",
    "# new_merged_df = df.merge(library_tracks, left_on=['Song Name', 'Album Name'], right_on=['Song Name', 'Album Name'])\n",
    "new_merged_df = pd.merge(df, library_tracks, on=['Song Name', 'Album Name'], how='left')"
   ]
  },
  {
   "cell_type": "code",
   "execution_count": null,
   "metadata": {},
   "outputs": [],
   "source": [
    "small_df = new_merged_df[['Song Name', 'Album Name', 'Artist']]"
   ]
  },
  {
   "cell_type": "code",
   "execution_count": null,
   "metadata": {},
   "outputs": [],
   "source": [
    "small_df.describe()"
   ]
  },
  {
   "cell_type": "code",
   "execution_count": null,
   "metadata": {},
   "outputs": [],
   "source": [
    "small_df.head(50)"
   ]
  },
  {
   "cell_type": "code",
   "execution_count": null,
   "metadata": {},
   "outputs": [],
   "source": [
    "small_df[small_df['Song Name'] == \"Science Fiction Double Feature\"]"
   ]
  },
  {
   "cell_type": "code",
   "execution_count": null,
   "metadata": {},
   "outputs": [],
   "source": [
    "another_merged_df = pd.merge(small_df, library_tracks, on=['Song Name', 'Album Name'], how='left')"
   ]
  },
  {
   "cell_type": "code",
   "execution_count": null,
   "metadata": {},
   "outputs": [],
   "source": [
    "library_tracks[library_tracks['Song Name'] == \"Watch Me as I Fall\"][[\"Artist\", \"Song Name\",\"Track Play Count\", \"Track Identifier\", \"Audio Matched Track Identifier\", \"Apple Music Track Identifier\", \"Tag Matched Track Identifier\"]]"
   ]
  },
  {
   "cell_type": "markdown",
   "metadata": {},
   "source": [
    "#### Convert genre to list"
   ]
  },
  {
   "cell_type": "code",
   "execution_count": null,
   "metadata": {},
   "outputs": [],
   "source": [
    "new_merged_df.describe()"
   ]
  },
  {
   "cell_type": "code",
   "execution_count": null,
   "metadata": {},
   "outputs": [],
   "source": [
    "new_merged_df[\"Genre\"]"
   ]
  },
  {
   "cell_type": "code",
   "execution_count": null,
   "metadata": {},
   "outputs": [],
   "source": [
    "new_merged_df[\"Genre\"] = new_merged_df[\"Genre\"].apply(lambda x: [x])"
   ]
  },
  {
   "cell_type": "code",
   "execution_count": null,
   "metadata": {},
   "outputs": [],
   "source": [
    "new_merged_df[\"Genre\"]"
   ]
  },
  {
   "cell_type": "code",
   "execution_count": null,
   "metadata": {},
   "outputs": [],
   "source": [
    "# Display the merged DataFrame\n",
    "new_merged_df.head()"
   ]
  },
  {
   "cell_type": "code",
   "execution_count": null,
   "metadata": {},
   "outputs": [],
   "source": [
    "new_merged_df.columns"
   ]
  },
  {
   "cell_type": "code",
   "execution_count": null,
   "metadata": {},
   "outputs": [],
   "source": [
    "end_reason_dict = {\n",
    "    \"EXITED_APPLICATION\": \"logout\",\n",
    "    \"FAILED_TO_LOAD\": \"track_error\",\n",
    "    \"MANUALLY_SELECTED_PLAYBACK_OF_A_DIFF_ITEM\": \"selected_diff_item\",\n",
    "    \"NATURAL_END_OF_TRACK\": \"track_done\",\n",
    "    \"NOT_APPLICABLE\": \"unknown\",\n",
    "    \"OTHER\": \"uknown\",\n",
    "    \"PLAYBACK_MANUALLY_PAUSED\": \"pause\",\n",
    "    \"PLAYBACK_SUSPENDED\": \"suspended\",\n",
    "    \"SCRUB_BEGIN\": \"scrub_begin\",\n",
    "    \"SCRUB_END\": \"scrub_end\",\n",
    "    \"TRACK_SKIPPED_BACKWARDS\": \"back_button\",\n",
    "    \"TRACK_SKIPPED_FORWARDS\": \"forward_button\",\n",
    "    pd.NA: \"unknown\"\n",
    "}"
   ]
  },
  {
   "cell_type": "code",
   "execution_count": null,
   "metadata": {},
   "outputs": [],
   "source": [
    "shuffle_dict = {\n",
    "    \"SHUFFLE_ON\": \"On\",\n",
    "    \"SHUFFLE_OFF\": \"Off\",\n",
    "    \"SHUFFLE_UNKNOWN\": \"Unknown\"\n",
    "}"
   ]
  },
  {
   "cell_type": "code",
   "execution_count": null,
   "metadata": {},
   "outputs": [],
   "source": [
    "from collections import defaultdict\n",
    "\n",
    "def constant_factory(value):\n",
    "    return lambda: value\n",
    "\n",
    "country_dict = defaultdict(constant_factory(\"Unknown\"))\n",
    "country_list = [\n",
    "    (\"GB\", \"United Kingdom\"),\n",
    "    (\"AL\", \"Albania\"),\n",
    "    (\"ES\", \"Spain\"),\n",
    "    (\"IE\", \"Ireland\"),\n",
    "    (\"US\", \"United States\")\n",
    "]\n",
    "for k, v in country_list:\n",
    "    country_dict[k] = v"
   ]
  },
  {
   "cell_type": "code",
   "execution_count": null,
   "metadata": {},
   "outputs": [],
   "source": [
    "country_dict"
   ]
  },
  {
   "cell_type": "code",
   "execution_count": null,
   "metadata": {},
   "outputs": [],
   "source": [
    "new_merged_df.replace({\"IP Country Code\": pd.NA}, \"unknown\", inplace=True)"
   ]
  },
  {
   "cell_type": "code",
   "execution_count": null,
   "metadata": {},
   "outputs": [],
   "source": [
    "new_merged_df[\"IP Country Code\"]"
   ]
  },
  {
   "cell_type": "code",
   "execution_count": null,
   "metadata": {},
   "outputs": [],
   "source": [
    "new_merged_df.iloc[2][[\"Album Name\", \"Song Name\", \"IP Country Code\"]]"
   ]
  },
  {
   "cell_type": "code",
   "execution_count": null,
   "metadata": {},
   "outputs": [],
   "source": [
    "new_merged_df[\"Datetime\"] = pd.to_datetime(new_merged_df[\"Event Start Timestamp\"], format='mixed')\n",
    "new_merged_df[\"Day name\"] = new_merged_df[\"Datetime\"].dt.day_name()\n",
    "new_merged_df[\"Day number\"] = new_merged_df[\"Datetime\"].dt.day\n",
    "new_merged_df[\"Month number\"] = new_merged_df[\"Datetime\"].dt.month\n",
    "new_merged_df[\"Year\"] = new_merged_df[\"Datetime\"].dt.year\n",
    "new_merged_df[\"Hour\"] = new_merged_df[\"Datetime\"].dt.hour\n",
    "new_merged_df[\"Song and Artist name\"] = new_merged_df[\"Song Name\"] + \" | \" + new_merged_df[\"Artist\"]\n",
    "new_merged_df[\"Platform\"] = new_merged_df[\"Device OS Name\"] + \" | \" + new_merged_df[\"Device Type\"]+ \" | \" + new_merged_df[\"Device OS Version\"]\n",
    "new_merged_df[\"Milliseconds played\"] = new_merged_df[\"Play Duration Milliseconds\"]\n",
    "new_merged_df.replace({\"End Reason Type\": end_reason_dict}, inplace=True)\n",
    "new_merged_df.replace({\"Shuffle Play\": shuffle_dict}, inplace=True)\n",
    "new_merged_df.replace({\"IP Country Code\": country_dict}, inplace=True)\n",
    "new_merged_df[\"Latitude\"] = new_merged_df[\"IP Latitude\"]\n",
    "new_merged_df[\"Longitude\"] = new_merged_df[\"IP Longitude\"]"
   ]
  },
  {
   "cell_type": "code",
   "execution_count": null,
   "metadata": {},
   "outputs": [],
   "source": [
    "new_merged_df.columns"
   ]
  },
  {
   "cell_type": "code",
   "execution_count": null,
   "metadata": {},
   "outputs": [],
   "source": [
    "new_merged_df[\"End Reason Type\"].head(10)"
   ]
  },
  {
   "cell_type": "code",
   "execution_count": null,
   "metadata": {},
   "outputs": [],
   "source": [
    "rename_columns = {\n",
    "    \"Album Name\": \"Album name\",\n",
    "    \"Song Name\": \"Song name\",\n",
    "    \"End Reason Type\": \"End reason\",\n",
    "    \"Shuffle Play\": \"Shuffle\",\n",
    "    \"IP Country Code\": \"Country\"\n",
    "}"
   ]
  },
  {
   "cell_type": "code",
   "execution_count": null,
   "metadata": {},
   "outputs": [],
   "source": [
    "columns_to_keep = [\n",
    "    \"Datetime\",\n",
    "    \"Day name\",\n",
    "    \"Day number\",\n",
    "    \"Month number\",\n",
    "    \"Year\",\n",
    "    \"Hour\",\n",
    "    \"Artist\",\n",
    "    \"Album name\",\n",
    "    \"Song name\",\n",
    "    \"Song and Artist name\",\n",
    "    \"Genre\",\n",
    "    \"Platform\",\n",
    "    \"Milliseconds played\",\n",
    "    \"End reason\",\n",
    "    \"Shuffle\",\n",
    "    \"Country\",\n",
    "    \"Latitude\",\n",
    "    \"Longitude\"\n",
    "]"
   ]
  },
  {
   "cell_type": "code",
   "execution_count": null,
   "metadata": {},
   "outputs": [],
   "source": [
    "apple_df = new_merged_df.rename(columns=rename_columns)[columns_to_keep]\n",
    "apple_df.head()"
   ]
  },
  {
   "cell_type": "code",
   "execution_count": null,
   "metadata": {},
   "outputs": [],
   "source": [
    "apple_df[\"Country\"]"
   ]
  }
 ],
 "metadata": {
  "kernelspec": {
   "display_name": ".venv",
   "language": "python",
   "name": "python3"
  },
  "language_info": {
   "codemirror_mode": {
    "name": "ipython",
    "version": 3
   },
   "file_extension": ".py",
   "mimetype": "text/x-python",
   "name": "python",
   "nbconvert_exporter": "python",
   "pygments_lexer": "ipython3",
   "version": "3.11.8"
  }
 },
 "nbformat": 4,
 "nbformat_minor": 2
}
